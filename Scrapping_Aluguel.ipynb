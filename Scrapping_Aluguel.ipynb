{
  "nbformat": 4,
  "nbformat_minor": 0,
  "metadata": {
    "colab": {
      "provenance": [],
      "collapsed_sections": [
        "bY8s5QEV3eC3",
        "gcH6tsuKVb-S"
      ],
      "authorship_tag": "ABX9TyM9Be0w5RC2bHBO9d1ZHif0",
      "include_colab_link": true
    },
    "kernelspec": {
      "name": "python3",
      "display_name": "Python 3"
    },
    "language_info": {
      "name": "python"
    },
    "widgets": {
      "application/vnd.jupyter.widget-state+json": {
        "cded92638efe43fb8ddc7580e7a8e896": {
          "model_module": "@jupyter-widgets/controls",
          "model_name": "HBoxModel",
          "model_module_version": "1.5.0",
          "state": {
            "_dom_classes": [],
            "_model_module": "@jupyter-widgets/controls",
            "_model_module_version": "1.5.0",
            "_model_name": "HBoxModel",
            "_view_count": null,
            "_view_module": "@jupyter-widgets/controls",
            "_view_module_version": "1.5.0",
            "_view_name": "HBoxView",
            "box_style": "",
            "children": [
              "IPY_MODEL_9abd1e0c687a407594a34cb3cc87c43f",
              "IPY_MODEL_4044b22442964f6ca88b3b23666906d1",
              "IPY_MODEL_8f2329b4923c41588a649a65893ed9d2"
            ],
            "layout": "IPY_MODEL_00d8f650cdff4511a25152dcf219bc77"
          }
        },
        "9abd1e0c687a407594a34cb3cc87c43f": {
          "model_module": "@jupyter-widgets/controls",
          "model_name": "HTMLModel",
          "model_module_version": "1.5.0",
          "state": {
            "_dom_classes": [],
            "_model_module": "@jupyter-widgets/controls",
            "_model_module_version": "1.5.0",
            "_model_name": "HTMLModel",
            "_view_count": null,
            "_view_module": "@jupyter-widgets/controls",
            "_view_module_version": "1.5.0",
            "_view_name": "HTMLView",
            "description": "",
            "description_tooltip": null,
            "layout": "IPY_MODEL_f034eabbe1234da5a35ab3f4fb451c33",
            "placeholder": "​",
            "style": "IPY_MODEL_bbaec2d5e94141ebb4e31ee41468cb40",
            "value": "Processando página 3: 100%"
          }
        },
        "4044b22442964f6ca88b3b23666906d1": {
          "model_module": "@jupyter-widgets/controls",
          "model_name": "FloatProgressModel",
          "model_module_version": "1.5.0",
          "state": {
            "_dom_classes": [],
            "_model_module": "@jupyter-widgets/controls",
            "_model_module_version": "1.5.0",
            "_model_name": "FloatProgressModel",
            "_view_count": null,
            "_view_module": "@jupyter-widgets/controls",
            "_view_module_version": "1.5.0",
            "_view_name": "ProgressView",
            "bar_style": "success",
            "description": "",
            "description_tooltip": null,
            "layout": "IPY_MODEL_9878b45908d84235ac26d8f5e3fe96ab",
            "max": 3,
            "min": 0,
            "orientation": "horizontal",
            "style": "IPY_MODEL_4e5a5f726598477398b6a8f22071568a",
            "value": 3
          }
        },
        "8f2329b4923c41588a649a65893ed9d2": {
          "model_module": "@jupyter-widgets/controls",
          "model_name": "HTMLModel",
          "model_module_version": "1.5.0",
          "state": {
            "_dom_classes": [],
            "_model_module": "@jupyter-widgets/controls",
            "_model_module_version": "1.5.0",
            "_model_name": "HTMLModel",
            "_view_count": null,
            "_view_module": "@jupyter-widgets/controls",
            "_view_module_version": "1.5.0",
            "_view_name": "HTMLView",
            "description": "",
            "description_tooltip": null,
            "layout": "IPY_MODEL_cef7dc00fd4047b994423570adb8e8d5",
            "placeholder": "​",
            "style": "IPY_MODEL_bbcbf87981c04dbc85e25d6cd7d75451",
            "value": " 3/3 [00:17&lt;00:00,  5.51s/it]"
          }
        },
        "00d8f650cdff4511a25152dcf219bc77": {
          "model_module": "@jupyter-widgets/base",
          "model_name": "LayoutModel",
          "model_module_version": "1.2.0",
          "state": {
            "_model_module": "@jupyter-widgets/base",
            "_model_module_version": "1.2.0",
            "_model_name": "LayoutModel",
            "_view_count": null,
            "_view_module": "@jupyter-widgets/base",
            "_view_module_version": "1.2.0",
            "_view_name": "LayoutView",
            "align_content": null,
            "align_items": null,
            "align_self": null,
            "border": null,
            "bottom": null,
            "display": null,
            "flex": null,
            "flex_flow": null,
            "grid_area": null,
            "grid_auto_columns": null,
            "grid_auto_flow": null,
            "grid_auto_rows": null,
            "grid_column": null,
            "grid_gap": null,
            "grid_row": null,
            "grid_template_areas": null,
            "grid_template_columns": null,
            "grid_template_rows": null,
            "height": null,
            "justify_content": null,
            "justify_items": null,
            "left": null,
            "margin": null,
            "max_height": null,
            "max_width": null,
            "min_height": null,
            "min_width": null,
            "object_fit": null,
            "object_position": null,
            "order": null,
            "overflow": null,
            "overflow_x": null,
            "overflow_y": null,
            "padding": null,
            "right": null,
            "top": null,
            "visibility": null,
            "width": null
          }
        },
        "f034eabbe1234da5a35ab3f4fb451c33": {
          "model_module": "@jupyter-widgets/base",
          "model_name": "LayoutModel",
          "model_module_version": "1.2.0",
          "state": {
            "_model_module": "@jupyter-widgets/base",
            "_model_module_version": "1.2.0",
            "_model_name": "LayoutModel",
            "_view_count": null,
            "_view_module": "@jupyter-widgets/base",
            "_view_module_version": "1.2.0",
            "_view_name": "LayoutView",
            "align_content": null,
            "align_items": null,
            "align_self": null,
            "border": null,
            "bottom": null,
            "display": null,
            "flex": null,
            "flex_flow": null,
            "grid_area": null,
            "grid_auto_columns": null,
            "grid_auto_flow": null,
            "grid_auto_rows": null,
            "grid_column": null,
            "grid_gap": null,
            "grid_row": null,
            "grid_template_areas": null,
            "grid_template_columns": null,
            "grid_template_rows": null,
            "height": null,
            "justify_content": null,
            "justify_items": null,
            "left": null,
            "margin": null,
            "max_height": null,
            "max_width": null,
            "min_height": null,
            "min_width": null,
            "object_fit": null,
            "object_position": null,
            "order": null,
            "overflow": null,
            "overflow_x": null,
            "overflow_y": null,
            "padding": null,
            "right": null,
            "top": null,
            "visibility": null,
            "width": null
          }
        },
        "bbaec2d5e94141ebb4e31ee41468cb40": {
          "model_module": "@jupyter-widgets/controls",
          "model_name": "DescriptionStyleModel",
          "model_module_version": "1.5.0",
          "state": {
            "_model_module": "@jupyter-widgets/controls",
            "_model_module_version": "1.5.0",
            "_model_name": "DescriptionStyleModel",
            "_view_count": null,
            "_view_module": "@jupyter-widgets/base",
            "_view_module_version": "1.2.0",
            "_view_name": "StyleView",
            "description_width": ""
          }
        },
        "9878b45908d84235ac26d8f5e3fe96ab": {
          "model_module": "@jupyter-widgets/base",
          "model_name": "LayoutModel",
          "model_module_version": "1.2.0",
          "state": {
            "_model_module": "@jupyter-widgets/base",
            "_model_module_version": "1.2.0",
            "_model_name": "LayoutModel",
            "_view_count": null,
            "_view_module": "@jupyter-widgets/base",
            "_view_module_version": "1.2.0",
            "_view_name": "LayoutView",
            "align_content": null,
            "align_items": null,
            "align_self": null,
            "border": null,
            "bottom": null,
            "display": null,
            "flex": null,
            "flex_flow": null,
            "grid_area": null,
            "grid_auto_columns": null,
            "grid_auto_flow": null,
            "grid_auto_rows": null,
            "grid_column": null,
            "grid_gap": null,
            "grid_row": null,
            "grid_template_areas": null,
            "grid_template_columns": null,
            "grid_template_rows": null,
            "height": null,
            "justify_content": null,
            "justify_items": null,
            "left": null,
            "margin": null,
            "max_height": null,
            "max_width": null,
            "min_height": null,
            "min_width": null,
            "object_fit": null,
            "object_position": null,
            "order": null,
            "overflow": null,
            "overflow_x": null,
            "overflow_y": null,
            "padding": null,
            "right": null,
            "top": null,
            "visibility": null,
            "width": null
          }
        },
        "4e5a5f726598477398b6a8f22071568a": {
          "model_module": "@jupyter-widgets/controls",
          "model_name": "ProgressStyleModel",
          "model_module_version": "1.5.0",
          "state": {
            "_model_module": "@jupyter-widgets/controls",
            "_model_module_version": "1.5.0",
            "_model_name": "ProgressStyleModel",
            "_view_count": null,
            "_view_module": "@jupyter-widgets/base",
            "_view_module_version": "1.2.0",
            "_view_name": "StyleView",
            "bar_color": null,
            "description_width": ""
          }
        },
        "cef7dc00fd4047b994423570adb8e8d5": {
          "model_module": "@jupyter-widgets/base",
          "model_name": "LayoutModel",
          "model_module_version": "1.2.0",
          "state": {
            "_model_module": "@jupyter-widgets/base",
            "_model_module_version": "1.2.0",
            "_model_name": "LayoutModel",
            "_view_count": null,
            "_view_module": "@jupyter-widgets/base",
            "_view_module_version": "1.2.0",
            "_view_name": "LayoutView",
            "align_content": null,
            "align_items": null,
            "align_self": null,
            "border": null,
            "bottom": null,
            "display": null,
            "flex": null,
            "flex_flow": null,
            "grid_area": null,
            "grid_auto_columns": null,
            "grid_auto_flow": null,
            "grid_auto_rows": null,
            "grid_column": null,
            "grid_gap": null,
            "grid_row": null,
            "grid_template_areas": null,
            "grid_template_columns": null,
            "grid_template_rows": null,
            "height": null,
            "justify_content": null,
            "justify_items": null,
            "left": null,
            "margin": null,
            "max_height": null,
            "max_width": null,
            "min_height": null,
            "min_width": null,
            "object_fit": null,
            "object_position": null,
            "order": null,
            "overflow": null,
            "overflow_x": null,
            "overflow_y": null,
            "padding": null,
            "right": null,
            "top": null,
            "visibility": null,
            "width": null
          }
        },
        "bbcbf87981c04dbc85e25d6cd7d75451": {
          "model_module": "@jupyter-widgets/controls",
          "model_name": "DescriptionStyleModel",
          "model_module_version": "1.5.0",
          "state": {
            "_model_module": "@jupyter-widgets/controls",
            "_model_module_version": "1.5.0",
            "_model_name": "DescriptionStyleModel",
            "_view_count": null,
            "_view_module": "@jupyter-widgets/base",
            "_view_module_version": "1.2.0",
            "_view_name": "StyleView",
            "description_width": ""
          }
        },
        "5f59198ea0c34554b4126e07ce8a0129": {
          "model_module": "@jupyter-widgets/controls",
          "model_name": "HBoxModel",
          "model_module_version": "1.5.0",
          "state": {
            "_dom_classes": [],
            "_model_module": "@jupyter-widgets/controls",
            "_model_module_version": "1.5.0",
            "_model_name": "HBoxModel",
            "_view_count": null,
            "_view_module": "@jupyter-widgets/controls",
            "_view_module_version": "1.5.0",
            "_view_name": "HBoxView",
            "box_style": "",
            "children": [
              "IPY_MODEL_b19bbad2cd3b42db922e73e15d54b64e",
              "IPY_MODEL_c86190f7565444d491ed4bcd673064d8",
              "IPY_MODEL_8e63b7765ebe423b8ac77af2a151d8f4"
            ],
            "layout": "IPY_MODEL_abb2a77e94fe4b24a19ad75c3e5f8e54"
          }
        },
        "b19bbad2cd3b42db922e73e15d54b64e": {
          "model_module": "@jupyter-widgets/controls",
          "model_name": "HTMLModel",
          "model_module_version": "1.5.0",
          "state": {
            "_dom_classes": [],
            "_model_module": "@jupyter-widgets/controls",
            "_model_module_version": "1.5.0",
            "_model_name": "HTMLModel",
            "_view_count": null,
            "_view_module": "@jupyter-widgets/controls",
            "_view_module_version": "1.5.0",
            "_view_name": "HTMLView",
            "description": "",
            "description_tooltip": null,
            "layout": "IPY_MODEL_f1e7213cdc8644e9b072295aee03da28",
            "placeholder": "​",
            "style": "IPY_MODEL_e9925576f5ed45fda86bccd67947b8a7",
            "value": "100%"
          }
        },
        "c86190f7565444d491ed4bcd673064d8": {
          "model_module": "@jupyter-widgets/controls",
          "model_name": "FloatProgressModel",
          "model_module_version": "1.5.0",
          "state": {
            "_dom_classes": [],
            "_model_module": "@jupyter-widgets/controls",
            "_model_module_version": "1.5.0",
            "_model_name": "FloatProgressModel",
            "_view_count": null,
            "_view_module": "@jupyter-widgets/controls",
            "_view_module_version": "1.5.0",
            "_view_name": "ProgressView",
            "bar_style": "success",
            "description": "",
            "description_tooltip": null,
            "layout": "IPY_MODEL_ab887cf48bec4322becfa70a987d1ced",
            "max": 36,
            "min": 0,
            "orientation": "horizontal",
            "style": "IPY_MODEL_54bb3c4725e84f6697bb92acb47a071b",
            "value": 36
          }
        },
        "8e63b7765ebe423b8ac77af2a151d8f4": {
          "model_module": "@jupyter-widgets/controls",
          "model_name": "HTMLModel",
          "model_module_version": "1.5.0",
          "state": {
            "_dom_classes": [],
            "_model_module": "@jupyter-widgets/controls",
            "_model_module_version": "1.5.0",
            "_model_name": "HTMLModel",
            "_view_count": null,
            "_view_module": "@jupyter-widgets/controls",
            "_view_module_version": "1.5.0",
            "_view_name": "HTMLView",
            "description": "",
            "description_tooltip": null,
            "layout": "IPY_MODEL_f0fd5fa3e25e4158b53d368a0466458c",
            "placeholder": "​",
            "style": "IPY_MODEL_d4a851c932ba46cc9aeb3f7ebd359a4d",
            "value": " 36/36 [00:00&lt;00:00, 401.12it/s]"
          }
        },
        "abb2a77e94fe4b24a19ad75c3e5f8e54": {
          "model_module": "@jupyter-widgets/base",
          "model_name": "LayoutModel",
          "model_module_version": "1.2.0",
          "state": {
            "_model_module": "@jupyter-widgets/base",
            "_model_module_version": "1.2.0",
            "_model_name": "LayoutModel",
            "_view_count": null,
            "_view_module": "@jupyter-widgets/base",
            "_view_module_version": "1.2.0",
            "_view_name": "LayoutView",
            "align_content": null,
            "align_items": null,
            "align_self": null,
            "border": null,
            "bottom": null,
            "display": null,
            "flex": null,
            "flex_flow": null,
            "grid_area": null,
            "grid_auto_columns": null,
            "grid_auto_flow": null,
            "grid_auto_rows": null,
            "grid_column": null,
            "grid_gap": null,
            "grid_row": null,
            "grid_template_areas": null,
            "grid_template_columns": null,
            "grid_template_rows": null,
            "height": null,
            "justify_content": null,
            "justify_items": null,
            "left": null,
            "margin": null,
            "max_height": null,
            "max_width": null,
            "min_height": null,
            "min_width": null,
            "object_fit": null,
            "object_position": null,
            "order": null,
            "overflow": null,
            "overflow_x": null,
            "overflow_y": null,
            "padding": null,
            "right": null,
            "top": null,
            "visibility": null,
            "width": null
          }
        },
        "f1e7213cdc8644e9b072295aee03da28": {
          "model_module": "@jupyter-widgets/base",
          "model_name": "LayoutModel",
          "model_module_version": "1.2.0",
          "state": {
            "_model_module": "@jupyter-widgets/base",
            "_model_module_version": "1.2.0",
            "_model_name": "LayoutModel",
            "_view_count": null,
            "_view_module": "@jupyter-widgets/base",
            "_view_module_version": "1.2.0",
            "_view_name": "LayoutView",
            "align_content": null,
            "align_items": null,
            "align_self": null,
            "border": null,
            "bottom": null,
            "display": null,
            "flex": null,
            "flex_flow": null,
            "grid_area": null,
            "grid_auto_columns": null,
            "grid_auto_flow": null,
            "grid_auto_rows": null,
            "grid_column": null,
            "grid_gap": null,
            "grid_row": null,
            "grid_template_areas": null,
            "grid_template_columns": null,
            "grid_template_rows": null,
            "height": null,
            "justify_content": null,
            "justify_items": null,
            "left": null,
            "margin": null,
            "max_height": null,
            "max_width": null,
            "min_height": null,
            "min_width": null,
            "object_fit": null,
            "object_position": null,
            "order": null,
            "overflow": null,
            "overflow_x": null,
            "overflow_y": null,
            "padding": null,
            "right": null,
            "top": null,
            "visibility": null,
            "width": null
          }
        },
        "e9925576f5ed45fda86bccd67947b8a7": {
          "model_module": "@jupyter-widgets/controls",
          "model_name": "DescriptionStyleModel",
          "model_module_version": "1.5.0",
          "state": {
            "_model_module": "@jupyter-widgets/controls",
            "_model_module_version": "1.5.0",
            "_model_name": "DescriptionStyleModel",
            "_view_count": null,
            "_view_module": "@jupyter-widgets/base",
            "_view_module_version": "1.2.0",
            "_view_name": "StyleView",
            "description_width": ""
          }
        },
        "ab887cf48bec4322becfa70a987d1ced": {
          "model_module": "@jupyter-widgets/base",
          "model_name": "LayoutModel",
          "model_module_version": "1.2.0",
          "state": {
            "_model_module": "@jupyter-widgets/base",
            "_model_module_version": "1.2.0",
            "_model_name": "LayoutModel",
            "_view_count": null,
            "_view_module": "@jupyter-widgets/base",
            "_view_module_version": "1.2.0",
            "_view_name": "LayoutView",
            "align_content": null,
            "align_items": null,
            "align_self": null,
            "border": null,
            "bottom": null,
            "display": null,
            "flex": null,
            "flex_flow": null,
            "grid_area": null,
            "grid_auto_columns": null,
            "grid_auto_flow": null,
            "grid_auto_rows": null,
            "grid_column": null,
            "grid_gap": null,
            "grid_row": null,
            "grid_template_areas": null,
            "grid_template_columns": null,
            "grid_template_rows": null,
            "height": null,
            "justify_content": null,
            "justify_items": null,
            "left": null,
            "margin": null,
            "max_height": null,
            "max_width": null,
            "min_height": null,
            "min_width": null,
            "object_fit": null,
            "object_position": null,
            "order": null,
            "overflow": null,
            "overflow_x": null,
            "overflow_y": null,
            "padding": null,
            "right": null,
            "top": null,
            "visibility": null,
            "width": null
          }
        },
        "54bb3c4725e84f6697bb92acb47a071b": {
          "model_module": "@jupyter-widgets/controls",
          "model_name": "ProgressStyleModel",
          "model_module_version": "1.5.0",
          "state": {
            "_model_module": "@jupyter-widgets/controls",
            "_model_module_version": "1.5.0",
            "_model_name": "ProgressStyleModel",
            "_view_count": null,
            "_view_module": "@jupyter-widgets/base",
            "_view_module_version": "1.2.0",
            "_view_name": "StyleView",
            "bar_color": null,
            "description_width": ""
          }
        },
        "f0fd5fa3e25e4158b53d368a0466458c": {
          "model_module": "@jupyter-widgets/base",
          "model_name": "LayoutModel",
          "model_module_version": "1.2.0",
          "state": {
            "_model_module": "@jupyter-widgets/base",
            "_model_module_version": "1.2.0",
            "_model_name": "LayoutModel",
            "_view_count": null,
            "_view_module": "@jupyter-widgets/base",
            "_view_module_version": "1.2.0",
            "_view_name": "LayoutView",
            "align_content": null,
            "align_items": null,
            "align_self": null,
            "border": null,
            "bottom": null,
            "display": null,
            "flex": null,
            "flex_flow": null,
            "grid_area": null,
            "grid_auto_columns": null,
            "grid_auto_flow": null,
            "grid_auto_rows": null,
            "grid_column": null,
            "grid_gap": null,
            "grid_row": null,
            "grid_template_areas": null,
            "grid_template_columns": null,
            "grid_template_rows": null,
            "height": null,
            "justify_content": null,
            "justify_items": null,
            "left": null,
            "margin": null,
            "max_height": null,
            "max_width": null,
            "min_height": null,
            "min_width": null,
            "object_fit": null,
            "object_position": null,
            "order": null,
            "overflow": null,
            "overflow_x": null,
            "overflow_y": null,
            "padding": null,
            "right": null,
            "top": null,
            "visibility": null,
            "width": null
          }
        },
        "d4a851c932ba46cc9aeb3f7ebd359a4d": {
          "model_module": "@jupyter-widgets/controls",
          "model_name": "DescriptionStyleModel",
          "model_module_version": "1.5.0",
          "state": {
            "_model_module": "@jupyter-widgets/controls",
            "_model_module_version": "1.5.0",
            "_model_name": "DescriptionStyleModel",
            "_view_count": null,
            "_view_module": "@jupyter-widgets/base",
            "_view_module_version": "1.2.0",
            "_view_name": "StyleView",
            "description_width": ""
          }
        },
        "e7ab644027524d729b133c1cff1a82b5": {
          "model_module": "@jupyter-widgets/controls",
          "model_name": "HBoxModel",
          "model_module_version": "1.5.0",
          "state": {
            "_dom_classes": [],
            "_model_module": "@jupyter-widgets/controls",
            "_model_module_version": "1.5.0",
            "_model_name": "HBoxModel",
            "_view_count": null,
            "_view_module": "@jupyter-widgets/controls",
            "_view_module_version": "1.5.0",
            "_view_name": "HBoxView",
            "box_style": "",
            "children": [
              "IPY_MODEL_fba340c220204f22b780e32f59989473",
              "IPY_MODEL_44822be3abe04da19bc22c06521a6e35",
              "IPY_MODEL_d8cf0d69b1bd496eb356faf554bf956d"
            ],
            "layout": "IPY_MODEL_42e3b5c3c3fc4ea0b7fa9b40b926d96b"
          }
        },
        "fba340c220204f22b780e32f59989473": {
          "model_module": "@jupyter-widgets/controls",
          "model_name": "HTMLModel",
          "model_module_version": "1.5.0",
          "state": {
            "_dom_classes": [],
            "_model_module": "@jupyter-widgets/controls",
            "_model_module_version": "1.5.0",
            "_model_name": "HTMLModel",
            "_view_count": null,
            "_view_module": "@jupyter-widgets/controls",
            "_view_module_version": "1.5.0",
            "_view_name": "HTMLView",
            "description": "",
            "description_tooltip": null,
            "layout": "IPY_MODEL_3c2a10aed3a54fd6b9474dc134d22bd1",
            "placeholder": "​",
            "style": "IPY_MODEL_43fb5456a84342f79a20728a22748f42",
            "value": "100%"
          }
        },
        "44822be3abe04da19bc22c06521a6e35": {
          "model_module": "@jupyter-widgets/controls",
          "model_name": "FloatProgressModel",
          "model_module_version": "1.5.0",
          "state": {
            "_dom_classes": [],
            "_model_module": "@jupyter-widgets/controls",
            "_model_module_version": "1.5.0",
            "_model_name": "FloatProgressModel",
            "_view_count": null,
            "_view_module": "@jupyter-widgets/controls",
            "_view_module_version": "1.5.0",
            "_view_name": "ProgressView",
            "bar_style": "success",
            "description": "",
            "description_tooltip": null,
            "layout": "IPY_MODEL_c0ebb5c56bc84d8ca96c97eb1d6b3c23",
            "max": 36,
            "min": 0,
            "orientation": "horizontal",
            "style": "IPY_MODEL_fa383cb647ce459f8938ab48e1bd54b9",
            "value": 36
          }
        },
        "d8cf0d69b1bd496eb356faf554bf956d": {
          "model_module": "@jupyter-widgets/controls",
          "model_name": "HTMLModel",
          "model_module_version": "1.5.0",
          "state": {
            "_dom_classes": [],
            "_model_module": "@jupyter-widgets/controls",
            "_model_module_version": "1.5.0",
            "_model_name": "HTMLModel",
            "_view_count": null,
            "_view_module": "@jupyter-widgets/controls",
            "_view_module_version": "1.5.0",
            "_view_name": "HTMLView",
            "description": "",
            "description_tooltip": null,
            "layout": "IPY_MODEL_de7ccd6d9f5b4e54a33b522b2477ba66",
            "placeholder": "​",
            "style": "IPY_MODEL_d4d44a3c45ec46fd9cec45c171971625",
            "value": " 36/36 [00:00&lt;00:00, 399.67it/s]"
          }
        },
        "42e3b5c3c3fc4ea0b7fa9b40b926d96b": {
          "model_module": "@jupyter-widgets/base",
          "model_name": "LayoutModel",
          "model_module_version": "1.2.0",
          "state": {
            "_model_module": "@jupyter-widgets/base",
            "_model_module_version": "1.2.0",
            "_model_name": "LayoutModel",
            "_view_count": null,
            "_view_module": "@jupyter-widgets/base",
            "_view_module_version": "1.2.0",
            "_view_name": "LayoutView",
            "align_content": null,
            "align_items": null,
            "align_self": null,
            "border": null,
            "bottom": null,
            "display": null,
            "flex": null,
            "flex_flow": null,
            "grid_area": null,
            "grid_auto_columns": null,
            "grid_auto_flow": null,
            "grid_auto_rows": null,
            "grid_column": null,
            "grid_gap": null,
            "grid_row": null,
            "grid_template_areas": null,
            "grid_template_columns": null,
            "grid_template_rows": null,
            "height": null,
            "justify_content": null,
            "justify_items": null,
            "left": null,
            "margin": null,
            "max_height": null,
            "max_width": null,
            "min_height": null,
            "min_width": null,
            "object_fit": null,
            "object_position": null,
            "order": null,
            "overflow": null,
            "overflow_x": null,
            "overflow_y": null,
            "padding": null,
            "right": null,
            "top": null,
            "visibility": null,
            "width": null
          }
        },
        "3c2a10aed3a54fd6b9474dc134d22bd1": {
          "model_module": "@jupyter-widgets/base",
          "model_name": "LayoutModel",
          "model_module_version": "1.2.0",
          "state": {
            "_model_module": "@jupyter-widgets/base",
            "_model_module_version": "1.2.0",
            "_model_name": "LayoutModel",
            "_view_count": null,
            "_view_module": "@jupyter-widgets/base",
            "_view_module_version": "1.2.0",
            "_view_name": "LayoutView",
            "align_content": null,
            "align_items": null,
            "align_self": null,
            "border": null,
            "bottom": null,
            "display": null,
            "flex": null,
            "flex_flow": null,
            "grid_area": null,
            "grid_auto_columns": null,
            "grid_auto_flow": null,
            "grid_auto_rows": null,
            "grid_column": null,
            "grid_gap": null,
            "grid_row": null,
            "grid_template_areas": null,
            "grid_template_columns": null,
            "grid_template_rows": null,
            "height": null,
            "justify_content": null,
            "justify_items": null,
            "left": null,
            "margin": null,
            "max_height": null,
            "max_width": null,
            "min_height": null,
            "min_width": null,
            "object_fit": null,
            "object_position": null,
            "order": null,
            "overflow": null,
            "overflow_x": null,
            "overflow_y": null,
            "padding": null,
            "right": null,
            "top": null,
            "visibility": null,
            "width": null
          }
        },
        "43fb5456a84342f79a20728a22748f42": {
          "model_module": "@jupyter-widgets/controls",
          "model_name": "DescriptionStyleModel",
          "model_module_version": "1.5.0",
          "state": {
            "_model_module": "@jupyter-widgets/controls",
            "_model_module_version": "1.5.0",
            "_model_name": "DescriptionStyleModel",
            "_view_count": null,
            "_view_module": "@jupyter-widgets/base",
            "_view_module_version": "1.2.0",
            "_view_name": "StyleView",
            "description_width": ""
          }
        },
        "c0ebb5c56bc84d8ca96c97eb1d6b3c23": {
          "model_module": "@jupyter-widgets/base",
          "model_name": "LayoutModel",
          "model_module_version": "1.2.0",
          "state": {
            "_model_module": "@jupyter-widgets/base",
            "_model_module_version": "1.2.0",
            "_model_name": "LayoutModel",
            "_view_count": null,
            "_view_module": "@jupyter-widgets/base",
            "_view_module_version": "1.2.0",
            "_view_name": "LayoutView",
            "align_content": null,
            "align_items": null,
            "align_self": null,
            "border": null,
            "bottom": null,
            "display": null,
            "flex": null,
            "flex_flow": null,
            "grid_area": null,
            "grid_auto_columns": null,
            "grid_auto_flow": null,
            "grid_auto_rows": null,
            "grid_column": null,
            "grid_gap": null,
            "grid_row": null,
            "grid_template_areas": null,
            "grid_template_columns": null,
            "grid_template_rows": null,
            "height": null,
            "justify_content": null,
            "justify_items": null,
            "left": null,
            "margin": null,
            "max_height": null,
            "max_width": null,
            "min_height": null,
            "min_width": null,
            "object_fit": null,
            "object_position": null,
            "order": null,
            "overflow": null,
            "overflow_x": null,
            "overflow_y": null,
            "padding": null,
            "right": null,
            "top": null,
            "visibility": null,
            "width": null
          }
        },
        "fa383cb647ce459f8938ab48e1bd54b9": {
          "model_module": "@jupyter-widgets/controls",
          "model_name": "ProgressStyleModel",
          "model_module_version": "1.5.0",
          "state": {
            "_model_module": "@jupyter-widgets/controls",
            "_model_module_version": "1.5.0",
            "_model_name": "ProgressStyleModel",
            "_view_count": null,
            "_view_module": "@jupyter-widgets/base",
            "_view_module_version": "1.2.0",
            "_view_name": "StyleView",
            "bar_color": null,
            "description_width": ""
          }
        },
        "de7ccd6d9f5b4e54a33b522b2477ba66": {
          "model_module": "@jupyter-widgets/base",
          "model_name": "LayoutModel",
          "model_module_version": "1.2.0",
          "state": {
            "_model_module": "@jupyter-widgets/base",
            "_model_module_version": "1.2.0",
            "_model_name": "LayoutModel",
            "_view_count": null,
            "_view_module": "@jupyter-widgets/base",
            "_view_module_version": "1.2.0",
            "_view_name": "LayoutView",
            "align_content": null,
            "align_items": null,
            "align_self": null,
            "border": null,
            "bottom": null,
            "display": null,
            "flex": null,
            "flex_flow": null,
            "grid_area": null,
            "grid_auto_columns": null,
            "grid_auto_flow": null,
            "grid_auto_rows": null,
            "grid_column": null,
            "grid_gap": null,
            "grid_row": null,
            "grid_template_areas": null,
            "grid_template_columns": null,
            "grid_template_rows": null,
            "height": null,
            "justify_content": null,
            "justify_items": null,
            "left": null,
            "margin": null,
            "max_height": null,
            "max_width": null,
            "min_height": null,
            "min_width": null,
            "object_fit": null,
            "object_position": null,
            "order": null,
            "overflow": null,
            "overflow_x": null,
            "overflow_y": null,
            "padding": null,
            "right": null,
            "top": null,
            "visibility": null,
            "width": null
          }
        },
        "d4d44a3c45ec46fd9cec45c171971625": {
          "model_module": "@jupyter-widgets/controls",
          "model_name": "DescriptionStyleModel",
          "model_module_version": "1.5.0",
          "state": {
            "_model_module": "@jupyter-widgets/controls",
            "_model_module_version": "1.5.0",
            "_model_name": "DescriptionStyleModel",
            "_view_count": null,
            "_view_module": "@jupyter-widgets/base",
            "_view_module_version": "1.2.0",
            "_view_name": "StyleView",
            "description_width": ""
          }
        },
        "68d0268defbb41cbbe05efa05c404535": {
          "model_module": "@jupyter-widgets/controls",
          "model_name": "HBoxModel",
          "model_module_version": "1.5.0",
          "state": {
            "_dom_classes": [],
            "_model_module": "@jupyter-widgets/controls",
            "_model_module_version": "1.5.0",
            "_model_name": "HBoxModel",
            "_view_count": null,
            "_view_module": "@jupyter-widgets/controls",
            "_view_module_version": "1.5.0",
            "_view_name": "HBoxView",
            "box_style": "",
            "children": [
              "IPY_MODEL_77efe57327084ac8a58c51bcbce7153b",
              "IPY_MODEL_e66797ab4a8d48dc9ff7b24ab8fac426",
              "IPY_MODEL_38cf337f82c742e99651d83f28811748"
            ],
            "layout": "IPY_MODEL_3a81c65d0c6b463a9ab15ef864e34f94"
          }
        },
        "77efe57327084ac8a58c51bcbce7153b": {
          "model_module": "@jupyter-widgets/controls",
          "model_name": "HTMLModel",
          "model_module_version": "1.5.0",
          "state": {
            "_dom_classes": [],
            "_model_module": "@jupyter-widgets/controls",
            "_model_module_version": "1.5.0",
            "_model_name": "HTMLModel",
            "_view_count": null,
            "_view_module": "@jupyter-widgets/controls",
            "_view_module_version": "1.5.0",
            "_view_name": "HTMLView",
            "description": "",
            "description_tooltip": null,
            "layout": "IPY_MODEL_787a5092a66845668a6c374a98902f75",
            "placeholder": "​",
            "style": "IPY_MODEL_bfd7fcc87aba4c6e9dee991e4af07a64",
            "value": "100%"
          }
        },
        "e66797ab4a8d48dc9ff7b24ab8fac426": {
          "model_module": "@jupyter-widgets/controls",
          "model_name": "FloatProgressModel",
          "model_module_version": "1.5.0",
          "state": {
            "_dom_classes": [],
            "_model_module": "@jupyter-widgets/controls",
            "_model_module_version": "1.5.0",
            "_model_name": "FloatProgressModel",
            "_view_count": null,
            "_view_module": "@jupyter-widgets/controls",
            "_view_module_version": "1.5.0",
            "_view_name": "ProgressView",
            "bar_style": "success",
            "description": "",
            "description_tooltip": null,
            "layout": "IPY_MODEL_db7a90f0a31f437ca3eb1cf24ad4f89b",
            "max": 36,
            "min": 0,
            "orientation": "horizontal",
            "style": "IPY_MODEL_3bec59cbc57e43648040bf089136ef37",
            "value": 36
          }
        },
        "38cf337f82c742e99651d83f28811748": {
          "model_module": "@jupyter-widgets/controls",
          "model_name": "HTMLModel",
          "model_module_version": "1.5.0",
          "state": {
            "_dom_classes": [],
            "_model_module": "@jupyter-widgets/controls",
            "_model_module_version": "1.5.0",
            "_model_name": "HTMLModel",
            "_view_count": null,
            "_view_module": "@jupyter-widgets/controls",
            "_view_module_version": "1.5.0",
            "_view_name": "HTMLView",
            "description": "",
            "description_tooltip": null,
            "layout": "IPY_MODEL_1e0144643af14acb9b3b2b70942187f3",
            "placeholder": "​",
            "style": "IPY_MODEL_6e0569369b6b419faf1946e81308ba5d",
            "value": " 36/36 [00:00&lt;00:00, 379.16it/s]"
          }
        },
        "3a81c65d0c6b463a9ab15ef864e34f94": {
          "model_module": "@jupyter-widgets/base",
          "model_name": "LayoutModel",
          "model_module_version": "1.2.0",
          "state": {
            "_model_module": "@jupyter-widgets/base",
            "_model_module_version": "1.2.0",
            "_model_name": "LayoutModel",
            "_view_count": null,
            "_view_module": "@jupyter-widgets/base",
            "_view_module_version": "1.2.0",
            "_view_name": "LayoutView",
            "align_content": null,
            "align_items": null,
            "align_self": null,
            "border": null,
            "bottom": null,
            "display": null,
            "flex": null,
            "flex_flow": null,
            "grid_area": null,
            "grid_auto_columns": null,
            "grid_auto_flow": null,
            "grid_auto_rows": null,
            "grid_column": null,
            "grid_gap": null,
            "grid_row": null,
            "grid_template_areas": null,
            "grid_template_columns": null,
            "grid_template_rows": null,
            "height": null,
            "justify_content": null,
            "justify_items": null,
            "left": null,
            "margin": null,
            "max_height": null,
            "max_width": null,
            "min_height": null,
            "min_width": null,
            "object_fit": null,
            "object_position": null,
            "order": null,
            "overflow": null,
            "overflow_x": null,
            "overflow_y": null,
            "padding": null,
            "right": null,
            "top": null,
            "visibility": null,
            "width": null
          }
        },
        "787a5092a66845668a6c374a98902f75": {
          "model_module": "@jupyter-widgets/base",
          "model_name": "LayoutModel",
          "model_module_version": "1.2.0",
          "state": {
            "_model_module": "@jupyter-widgets/base",
            "_model_module_version": "1.2.0",
            "_model_name": "LayoutModel",
            "_view_count": null,
            "_view_module": "@jupyter-widgets/base",
            "_view_module_version": "1.2.0",
            "_view_name": "LayoutView",
            "align_content": null,
            "align_items": null,
            "align_self": null,
            "border": null,
            "bottom": null,
            "display": null,
            "flex": null,
            "flex_flow": null,
            "grid_area": null,
            "grid_auto_columns": null,
            "grid_auto_flow": null,
            "grid_auto_rows": null,
            "grid_column": null,
            "grid_gap": null,
            "grid_row": null,
            "grid_template_areas": null,
            "grid_template_columns": null,
            "grid_template_rows": null,
            "height": null,
            "justify_content": null,
            "justify_items": null,
            "left": null,
            "margin": null,
            "max_height": null,
            "max_width": null,
            "min_height": null,
            "min_width": null,
            "object_fit": null,
            "object_position": null,
            "order": null,
            "overflow": null,
            "overflow_x": null,
            "overflow_y": null,
            "padding": null,
            "right": null,
            "top": null,
            "visibility": null,
            "width": null
          }
        },
        "bfd7fcc87aba4c6e9dee991e4af07a64": {
          "model_module": "@jupyter-widgets/controls",
          "model_name": "DescriptionStyleModel",
          "model_module_version": "1.5.0",
          "state": {
            "_model_module": "@jupyter-widgets/controls",
            "_model_module_version": "1.5.0",
            "_model_name": "DescriptionStyleModel",
            "_view_count": null,
            "_view_module": "@jupyter-widgets/base",
            "_view_module_version": "1.2.0",
            "_view_name": "StyleView",
            "description_width": ""
          }
        },
        "db7a90f0a31f437ca3eb1cf24ad4f89b": {
          "model_module": "@jupyter-widgets/base",
          "model_name": "LayoutModel",
          "model_module_version": "1.2.0",
          "state": {
            "_model_module": "@jupyter-widgets/base",
            "_model_module_version": "1.2.0",
            "_model_name": "LayoutModel",
            "_view_count": null,
            "_view_module": "@jupyter-widgets/base",
            "_view_module_version": "1.2.0",
            "_view_name": "LayoutView",
            "align_content": null,
            "align_items": null,
            "align_self": null,
            "border": null,
            "bottom": null,
            "display": null,
            "flex": null,
            "flex_flow": null,
            "grid_area": null,
            "grid_auto_columns": null,
            "grid_auto_flow": null,
            "grid_auto_rows": null,
            "grid_column": null,
            "grid_gap": null,
            "grid_row": null,
            "grid_template_areas": null,
            "grid_template_columns": null,
            "grid_template_rows": null,
            "height": null,
            "justify_content": null,
            "justify_items": null,
            "left": null,
            "margin": null,
            "max_height": null,
            "max_width": null,
            "min_height": null,
            "min_width": null,
            "object_fit": null,
            "object_position": null,
            "order": null,
            "overflow": null,
            "overflow_x": null,
            "overflow_y": null,
            "padding": null,
            "right": null,
            "top": null,
            "visibility": null,
            "width": null
          }
        },
        "3bec59cbc57e43648040bf089136ef37": {
          "model_module": "@jupyter-widgets/controls",
          "model_name": "ProgressStyleModel",
          "model_module_version": "1.5.0",
          "state": {
            "_model_module": "@jupyter-widgets/controls",
            "_model_module_version": "1.5.0",
            "_model_name": "ProgressStyleModel",
            "_view_count": null,
            "_view_module": "@jupyter-widgets/base",
            "_view_module_version": "1.2.0",
            "_view_name": "StyleView",
            "bar_color": null,
            "description_width": ""
          }
        },
        "1e0144643af14acb9b3b2b70942187f3": {
          "model_module": "@jupyter-widgets/base",
          "model_name": "LayoutModel",
          "model_module_version": "1.2.0",
          "state": {
            "_model_module": "@jupyter-widgets/base",
            "_model_module_version": "1.2.0",
            "_model_name": "LayoutModel",
            "_view_count": null,
            "_view_module": "@jupyter-widgets/base",
            "_view_module_version": "1.2.0",
            "_view_name": "LayoutView",
            "align_content": null,
            "align_items": null,
            "align_self": null,
            "border": null,
            "bottom": null,
            "display": null,
            "flex": null,
            "flex_flow": null,
            "grid_area": null,
            "grid_auto_columns": null,
            "grid_auto_flow": null,
            "grid_auto_rows": null,
            "grid_column": null,
            "grid_gap": null,
            "grid_row": null,
            "grid_template_areas": null,
            "grid_template_columns": null,
            "grid_template_rows": null,
            "height": null,
            "justify_content": null,
            "justify_items": null,
            "left": null,
            "margin": null,
            "max_height": null,
            "max_width": null,
            "min_height": null,
            "min_width": null,
            "object_fit": null,
            "object_position": null,
            "order": null,
            "overflow": null,
            "overflow_x": null,
            "overflow_y": null,
            "padding": null,
            "right": null,
            "top": null,
            "visibility": null,
            "width": null
          }
        },
        "6e0569369b6b419faf1946e81308ba5d": {
          "model_module": "@jupyter-widgets/controls",
          "model_name": "DescriptionStyleModel",
          "model_module_version": "1.5.0",
          "state": {
            "_model_module": "@jupyter-widgets/controls",
            "_model_module_version": "1.5.0",
            "_model_name": "DescriptionStyleModel",
            "_view_count": null,
            "_view_module": "@jupyter-widgets/base",
            "_view_module_version": "1.2.0",
            "_view_name": "StyleView",
            "description_width": ""
          }
        }
      }
    }
  },
  "cells": [
    {
      "cell_type": "markdown",
      "metadata": {
        "id": "view-in-github",
        "colab_type": "text"
      },
      "source": [
        "<a href=\"https://colab.research.google.com/github/BLayus/Scrapping/blob/main/Scrapping_Aluguel.ipynb\" target=\"_parent\"><img src=\"https://colab.research.google.com/assets/colab-badge.svg\" alt=\"Open In Colab\"/></a>"
      ]
    },
    {
      "cell_type": "code",
      "execution_count": null,
      "metadata": {
        "id": "mqfOrepts8SS"
      },
      "outputs": [],
      "source": [
        "\n",
        "from bs4 import BeautifulSoup\n",
        "from selenium import webdriver\n",
        "\n",
        "import time\n",
        "from tqdm.notebook import tqdm\n",
        "\n",
        "import pandas as pd\n",
        "import requests"
      ]
    },
    {
      "cell_type": "markdown",
      "source": [
        "### Funções\n"
      ],
      "metadata": {
        "id": "bY8s5QEV3eC3"
      }
    },
    {
      "cell_type": "code",
      "source": [
        "def driversetup():\n",
        "    options = webdriver.ChromeOptions()\n",
        "    #run Selenium in headless mode\n",
        "    options.add_argument('--headless')\n",
        "    options.add_argument('--no-sandbox')\n",
        "    #overcome limited resource problems\n",
        "    options.add_argument('--disable-dev-shm-usage')\n",
        "    options.add_argument(\"lang=en\")\n",
        "    #open Browser in maximized mode\n",
        "    options.add_argument(\"start-maximized\")\n",
        "    #disable infobars\n",
        "    options.add_argument(\"disable-infobars\")\n",
        "    #disable extension\n",
        "    options.add_argument(\"--disable-extensions\")\n",
        "    options.add_argument(\"--incognito\")\n",
        "    options.add_argument(\"--disable-blink-features=AutomationControlled\")\n",
        "    \n",
        "    driver = webdriver.Chrome(options=options)\n",
        "\n",
        "    driver.execute_script(\"Object.defineProperty(navigator, 'webdriver', {get: () => undefined});\")\n",
        "\n",
        "    return driver"
      ],
      "metadata": {
        "id": "6jXyAFY0vA2_"
      },
      "execution_count": null,
      "outputs": []
    },
    {
      "cell_type": "code",
      "source": [
        "def pagesource(url, driver):\n",
        "    driver = driver\n",
        "    driver.get(url)\n",
        "    soup = BeautifulSoup(driver.page_source)\n",
        "    driver.close()\n",
        "    return soup"
      ],
      "metadata": {
        "id": "1NA80MnzJzDV"
      },
      "execution_count": null,
      "outputs": []
    },
    {
      "cell_type": "markdown",
      "source": [
        "###Capturando Site"
      ],
      "metadata": {
        "id": "2PDw4lcsuOW3"
      }
    },
    {
      "cell_type": "code",
      "source": [
        "# Construindo uma lista de infos que serão retiradas do site\n",
        "\n",
        "list_titulo= list()\n",
        "list_endereco= list()\n",
        "list_area= list()\n",
        "list_quartos = list()\n",
        "list_banheiros = list()\n",
        "list_garagem = list()\n",
        "list_preco = list()\n",
        "list_condominio = list()\n",
        "list_amenidades = list()"
      ],
      "metadata": {
        "id": "gU6MhrqUtCsD"
      },
      "execution_count": null,
      "outputs": []
    },
    {
      "cell_type": "code",
      "source": [
        "pbar = tqdm(range(1,4))\n",
        "for pagina in pbar:\n",
        "\n",
        "  url = f'https://www.vivareal.com.br/aluguel/rj/rio-de-janeiro/zona-sul/jardim-botanico/apartamento_residencial/?pagina={pagina}'\n",
        "\n",
        "  #TQDM com a informação de progresso\n",
        "  pbar.set_description(\"Processando página %s\" % pagina)\n",
        "\n",
        "  #Faz requisição e resposta à página\n",
        "  response = requests.get(url).content\n",
        "\n",
        "  #Armazena e parseia em soup\n",
        "  soup = BeautifulSoup(response, 'html.parser')\n",
        "\n",
        "  #Acessa os anuncios atraves do nome da Classe html\n",
        "  resultados = soup.find_all('div', class_= 'property-card__content')\n",
        "\n",
        "  pbar2 = tqdm(resultados)\n",
        "  for r in pbar2:\n",
        "    title= r.find('span', class_= 'property-card__title')\n",
        "    address= r.find('span', class_= 'property-card__address-container')\n",
        "    area= r.find('span', class_= 'property-card__detail-area')\n",
        "    quartos= r.find('li', class_= 'property-card__detail-room')\n",
        "    banhos= r.find('li', class_= 'property-card__detail-bathroom')\n",
        "    garagem= r.find('li', class_= 'property-card__detail-garage')\n",
        "    preço= r.find('div', class_= 'property-card__price')\n",
        "    condo= r.find('div', class_= 'property-card__price-details--condo')\n",
        "    \n",
        "    list_titulo.append(title.text)\n",
        "    list_endereco.append(address.text)\n",
        "    list_area.append(area.text)\n",
        "    list_quartos.append(quartos.text)\n",
        "    list_banheiros.append(banhos.text)\n",
        "    list_garagem.append(garagem.text)\n",
        "    list_preco.append(preço.text)\n",
        "    list_condominio.append(condo.text)\n",
        "\n",
        "\n"
      ],
      "metadata": {
        "colab": {
          "base_uri": "https://localhost:8080/",
          "height": 145,
          "referenced_widgets": [
            "cded92638efe43fb8ddc7580e7a8e896",
            "9abd1e0c687a407594a34cb3cc87c43f",
            "4044b22442964f6ca88b3b23666906d1",
            "8f2329b4923c41588a649a65893ed9d2",
            "00d8f650cdff4511a25152dcf219bc77",
            "f034eabbe1234da5a35ab3f4fb451c33",
            "bbaec2d5e94141ebb4e31ee41468cb40",
            "9878b45908d84235ac26d8f5e3fe96ab",
            "4e5a5f726598477398b6a8f22071568a",
            "cef7dc00fd4047b994423570adb8e8d5",
            "bbcbf87981c04dbc85e25d6cd7d75451",
            "5f59198ea0c34554b4126e07ce8a0129",
            "b19bbad2cd3b42db922e73e15d54b64e",
            "c86190f7565444d491ed4bcd673064d8",
            "8e63b7765ebe423b8ac77af2a151d8f4",
            "abb2a77e94fe4b24a19ad75c3e5f8e54",
            "f1e7213cdc8644e9b072295aee03da28",
            "e9925576f5ed45fda86bccd67947b8a7",
            "ab887cf48bec4322becfa70a987d1ced",
            "54bb3c4725e84f6697bb92acb47a071b",
            "f0fd5fa3e25e4158b53d368a0466458c",
            "d4a851c932ba46cc9aeb3f7ebd359a4d",
            "e7ab644027524d729b133c1cff1a82b5",
            "fba340c220204f22b780e32f59989473",
            "44822be3abe04da19bc22c06521a6e35",
            "d8cf0d69b1bd496eb356faf554bf956d",
            "42e3b5c3c3fc4ea0b7fa9b40b926d96b",
            "3c2a10aed3a54fd6b9474dc134d22bd1",
            "43fb5456a84342f79a20728a22748f42",
            "c0ebb5c56bc84d8ca96c97eb1d6b3c23",
            "fa383cb647ce459f8938ab48e1bd54b9",
            "de7ccd6d9f5b4e54a33b522b2477ba66",
            "d4d44a3c45ec46fd9cec45c171971625",
            "68d0268defbb41cbbe05efa05c404535",
            "77efe57327084ac8a58c51bcbce7153b",
            "e66797ab4a8d48dc9ff7b24ab8fac426",
            "38cf337f82c742e99651d83f28811748",
            "3a81c65d0c6b463a9ab15ef864e34f94",
            "787a5092a66845668a6c374a98902f75",
            "bfd7fcc87aba4c6e9dee991e4af07a64",
            "db7a90f0a31f437ca3eb1cf24ad4f89b",
            "3bec59cbc57e43648040bf089136ef37",
            "1e0144643af14acb9b3b2b70942187f3",
            "6e0569369b6b419faf1946e81308ba5d"
          ]
        },
        "id": "JB_CpSk4J2ZB",
        "outputId": "e72ceda5-abc4-416e-b9d1-4a7ffe8fa564"
      },
      "execution_count": null,
      "outputs": [
        {
          "output_type": "display_data",
          "data": {
            "text/plain": [
              "  0%|          | 0/3 [00:00<?, ?it/s]"
            ],
            "application/vnd.jupyter.widget-view+json": {
              "version_major": 2,
              "version_minor": 0,
              "model_id": "cded92638efe43fb8ddc7580e7a8e896"
            }
          },
          "metadata": {}
        },
        {
          "output_type": "display_data",
          "data": {
            "text/plain": [
              "  0%|          | 0/36 [00:00<?, ?it/s]"
            ],
            "application/vnd.jupyter.widget-view+json": {
              "version_major": 2,
              "version_minor": 0,
              "model_id": "5f59198ea0c34554b4126e07ce8a0129"
            }
          },
          "metadata": {}
        },
        {
          "output_type": "display_data",
          "data": {
            "text/plain": [
              "  0%|          | 0/36 [00:00<?, ?it/s]"
            ],
            "application/vnd.jupyter.widget-view+json": {
              "version_major": 2,
              "version_minor": 0,
              "model_id": "e7ab644027524d729b133c1cff1a82b5"
            }
          },
          "metadata": {}
        },
        {
          "output_type": "display_data",
          "data": {
            "text/plain": [
              "  0%|          | 0/36 [00:00<?, ?it/s]"
            ],
            "application/vnd.jupyter.widget-view+json": {
              "version_major": 2,
              "version_minor": 0,
              "model_id": "68d0268defbb41cbbe05efa05c404535"
            }
          },
          "metadata": {}
        }
      ]
    },
    {
      "cell_type": "code",
      "source": [
        "for r in resultados:\n",
        "  print(r.text, '/n')"
      ],
      "metadata": {
        "colab": {
          "base_uri": "https://localhost:8080/"
        },
        "id": "mrh02a0kXT10",
        "outputId": "4e7af747-a998-4b00-c571-c22b78abeab1"
      },
      "execution_count": null,
      "outputs": [
        {
          "output_type": "stream",
          "name": "stdout",
          "text": [
            "    Apartamento com 3 Quartos para Aluguel, 100m²    Avenida Lineu de Paula Machado, 826 - Jardim Botânico, Rio de Janeiro - RJ  ver mapa       100   m²     3   Quartos     2   Banheiros     1   Vaga     Aceita animais Ar-condicionado Salão de festas Portaria 24h       R$ 3.900 /Mês     Condomínio:   R$ 1.424       /n\n",
            "    Apartamento com 2 Quartos para Aluguel, 75m²    Rua Faro, 51 - Jardim Botânico, Rio de Janeiro - RJ  ver mapa       75   m²     2   Quartos     3   Banheiros     1   Vaga     Elevador Condomínio fechado Aceita animais Ar-condicionado Portaria 24h ...       R$ 4.000 /Mês     Condomínio:   R$ 1.188       /n\n",
            "    Apartamento com 3 Quartos para Aluguel, 93m²    Rua Peri - Jardim Botânico, Rio de Janeiro - RJ  ver mapa       93   m²     3   Quartos     2   Banheiros     1   Vaga     Elevador Portão eletrônico Aceita animais       R$ 4.500 /Mês     Condomínio:   R$ 1.216       /n\n",
            "    Apartamento com 2 Quartos para Aluguel, 79m²    Rua Pio Correia, 92 - Jardim Botânico, Rio de Janeiro - RJ  ver mapa       79   m²     2   Quartos     2   Banheiros     1   Vaga     Piscina Churrasqueira Elevador Condomínio fechado Varanda ...       R$ 2.800 /Mês     Condomínio:   R$ 1.536       /n\n",
            "    Apartamento com 3 Quartos para Aluguel, 78m²    Rua Von Martius - Jardim Botânico, Rio de Janeiro - RJ  ver mapa       78   m²     3   Quartos     2   Banheiros     --   Vaga     Elevador Portaria 24h Aceita animais       R$ 2.500 /Mês     Condomínio:   R$ 953       /n\n",
            "    Apartamento com 3 Quartos para Aluguel, 100m²    Rua Abade Ramos - Jardim Botânico, Rio de Janeiro - RJ  ver mapa       100   m²     3   Quartos     2   Banheiros     --   Vaga     Aceita animais Jardim Área de serviço Espaço verde / Parque Bicicletário ...       R$ 4.500 /Mês     Condomínio:   R$ 1.150       /n\n",
            "    Apartamento com 3 Quartos para Aluguel, 78m²    Rua Pio Correia - Jardim Botânico, Rio de Janeiro - RJ  ver mapa       78   m²     3   Quartos     2   Banheiros     1   Vaga     Piscina Churrasqueira Elevador Varanda Ar-condicionado ...       R$ 5.500 /Mês     Condomínio:   R$ 730       /n\n",
            "    Apartamento com 3 Quartos para Aluguel, 73m²    Rua Jardim Botânico - Jardim Botânico, Rio de Janeiro - RJ  ver mapa       73   m²     3   Quartos     3   Banheiros     1   Vaga     Elevador Condomínio fechado Ar-condicionado Jardim Área de serviço ...       R$ 4.100 /Mês     Condomínio:   R$ 1.293       /n\n",
            "    Apartamento com 3 Quartos para Aluguel, 91m²    Avenida Lineu de Paula Machado - Jardim Botânico, Rio de Janeiro - RJ  ver mapa       91   m²     3   Quartos     3   Banheiros     1   Vaga     Cozinha Interfone Elevador Salão de festas Playground       R$ 4.300 /Mês     Condomínio:   R$ 1.200       /n\n",
            "    Apartamento com 3 Quartos para Aluguel, 98m²    Rua Conde Afonso Celso, 89 - Jardim Botânico, Rio de Janeiro - RJ  ver mapa       98   m²     3   Quartos     1   Banheiro     --   Vaga     Condomínio fechado Portão eletrônico Aceita animais Cozinha americana       R$ 4.200 /Mês     Condomínio:   R$ 1.160       /n\n",
            "    Apartamento com 2 Quartos para Venda/Aluguel 58m²    Jardim Botânico, Rio de Janeiro - RJ  ver mapa       58   m²     2   Quartos     1   Banheiro     --   Vaga         R$ 3.500 /Mês     Condomínio:   R$ 506       /n\n",
            "    Apartamento com 3 Quartos à Venda/Aluguel 109m²    Rua Benjamim Batista - Jardim Botânico, Rio de Janeiro - RJ  ver mapa       109   m²     3   Quartos     2   Banheiros     --   Vaga     Condomínio fechado Varanda Aceita animais Ar-condicionado Jardim ...       R$ 4.800 /Mês     Condomínio:   R$ 952       /n\n",
            "    Apartamento com 4 Quartos para Aluguel, 280m²    Rua Nascimento Bittencourt - Jardim Botânico, Rio de Janeiro - RJ  ver mapa       280   m²     4   Quartos     4   Banheiros     2   Vagas     Piscina Elevador Aceita animais Ar-condicionado Bicicletário ...       R$ 19.500 /Mês     Condomínio:   R$ 2.536       /n\n",
            "    Apartamento com 2 Quartos para Aluguel, 90m²    Rua Jardim Botânico, 227 - Jardim Botânico, Rio de Janeiro - RJ  ver mapa       90   m²     2   Quartos     2   Banheiros     1   Vaga     Área de serviço Armário embutido no quarto Armário na cozinha Banheiro de serviço Conexão à internet ...       R$ 2.500 /Mês  Preço abaixo do mercado      Condomínio:   R$ 1.170       /n\n",
            "    Apartamento com 3 Quartos para Aluguel, 325m²    Rua Benjamim Batista - Jardim Botânico, Rio de Janeiro - RJ  ver mapa       325   m²     3   Quartos     3   Banheiros     2   Vagas     Piscina Elevador Ar-condicionado Salão de festas Bicicletário ...       R$ 13.000 /Mês     Condomínio:   R$ 2.300       /n\n",
            "    Apartamento com 3 Quartos para Aluguel, 118m²    Rua Jardim Botânico - Jardim Botânico, Rio de Janeiro - RJ  ver mapa       118   m²     3   Quartos     2   Banheiros     1   Vaga     Churrasqueira Elevador Condomínio fechado Ar-condicionado Jardim ...       R$ 3.600 /Mês  Preço abaixo do mercado      Condomínio:   R$ 1.005       /n\n",
            "    Apartamento com 2 Quartos para Venda/Aluguel 63m²    Rua Jardim Botânico - Jardim Botânico, Rio de Janeiro - RJ  ver mapa       63   m²     2   Quartos     3   Banheiros     1   Vaga     Cozinha Interfone Elevador Salão de festas Playground       R$ 3.000 /Mês     Condomínio:   R$ 1.100       /n\n",
            "    Apartamento com  Quarto para Aluguel, 64m²    Rua Jardim Botânico, 667 - Jardim Botânico, Rio de Janeiro - RJ  ver mapa       64   m²     1   Quarto     1   Banheiro     --   Vaga     Elevador Condomínio fechado Bicicletário Cozinha americana Lavanderia ...       R$ 4.500 /Mês     Condomínio:   R$ 837       /n\n",
            "    Apartamento com  Quarto para Aluguel, 48m²    Jardim Botânico, Rio de Janeiro - RJ  ver mapa       48   m²     1   Quarto     1   Banheiro     1   Vaga     Elevador Interfone Área de serviço       R$ 2.680 /Mês     Condomínio:   R$ 941       /n\n",
            "    Apartamento com 3 Quartos para Venda/Aluguel 111m²    Rua Benjamim Batista - Jardim Botânico, Rio de Janeiro - RJ  ver mapa       111   m²     3   Quartos     2   Banheiros     1   Vaga     Elevador Varanda Área de serviço Conexão à internet Cozinha ...       R$ 5.000 /Mês     Condomínio:   R$ 1.732       /n\n",
            "    Apartamento com 3 Quartos para Aluguel, 325m²    Rua Benjamim Batista - Jardim Botânico, Rio de Janeiro - RJ  ver mapa       325   m²     3   Quartos     3   Banheiros     3   Vagas     Elevador Condomínio fechado Ar-condicionado Varanda gourmet Armário embutido ...       R$ 13.000 /Mês  Preço abaixo do mercado      Condomínio:   R$ 2.300       /n\n",
            "    Apartamento com 3 Quartos para Aluguel, 100m²    Avenida Lineu de Paula Machado - Jardim Botânico, Rio de Janeiro - RJ  ver mapa       100   m²     3   Quartos     3   Banheiros     1   Vaga     Cozinha Interfone Elevador Salão de festas       R$ 3.900 /Mês     Condomínio:   R$ 1.424       /n\n",
            "    Apartamento com 3 Quartos para Aluguel, 138m²    Rua Ingles de Sousa, 193 - Jardim Botânico, Rio de Janeiro - RJ  ver mapa       138   m²     3   Quartos     3   Banheiros     1   Vaga         R$ 4.800 /Mês     Condomínio:   R$ 600       /n\n",
            "    Apartamento com 2 Quartos para Aluguel, 63m²    Rua Senador Simonsen, 12 - Jardim Botânico, Rio de Janeiro - RJ  ver mapa       63   m²     2   Quartos     2   Banheiros     1   Vaga     Portão eletrônico Portaria 24h Área de serviço Armário na cozinha       R$ 3.000 /Mês     Condomínio:   R$ 459       /n\n",
            "    Apartamento com 4 Quartos para Aluguel, 343m²    Rua Corcovado - Jardim Botânico, Rio de Janeiro - RJ  ver mapa       343   m²     4   Quartos     5   Banheiros     3   Vagas     Ar-condicionado Varanda Vigia Closet       R$ 13.000 /Mês     Condomínio:   R$ 4.459       /n\n",
            "    Apartamento com 2 Quartos para Aluguel, 85m²    Rua Lópes Quintas, 74 - Jardim Botânico, Rio de Janeiro - RJ  ver mapa       85   m²     2   Quartos     2   Banheiros     1   Vaga     Piscina Condomínio fechado Aceita animais Ar-condicionado Salão de festas ...       R$ 4.300 /Mês     Condomínio:   R$ 832       /n\n",
            "    Apartamento com 3 Quartos para Aluguel, 73m²    Rua Jardim Botânico - Jardim Botânico, Rio de Janeiro - RJ  ver mapa       73   m²     3   Quartos     2   Banheiros     1   Vaga     Cozinha Mobiliado Área de serviço       R$ 4.200 /Mês     Condomínio:   R$ 1.100       /n\n",
            "    Apartamento com 3 Quartos para Aluguel, 103m²    Rua Visconde da Graça, 96 - Jardim Botânico, Rio de Janeiro - RJ  ver mapa       103   m²     3   Quartos     2   Banheiros     1   Vaga     Cozinha Elevador       R$ 5.300 /Mês     Condomínio:   R$ 1.400       /n\n",
            "    Apartamento com  Quarto para Aluguel, 56m²    Jardim Botânico, Rio de Janeiro - RJ  ver mapa       56   m²     1   Quarto     1   Banheiro     --   Vaga     Mobiliado Ar-condicionado Área de serviço Armário embutido Interfone ...       R$ 4.200 /Mês     Condomínio:   R$ 300       /n\n",
            "    Apartamento com  Quarto para Aluguel, 70m²    Rua Faro - Jardim Botânico, Rio de Janeiro - RJ  ver mapa       70   m²     1   Quarto     1   Banheiro     --   Vaga     Área de serviço       R$ 3.100 /Mês     Condomínio:   R$ 1.330       /n\n",
            "    Apartamento com 3 Quartos para Aluguel, 120m²    Avenida Lineu de Paula Machado, 1000 - Jardim Botânico, Rio de Janeiro - RJ  ver mapa       120   m²     3   Quartos     3   Banheiros     2   Vagas     Piscina Elevador Condomínio fechado Academia Jardim ...       R$ 7.500 /Mês     Condomínio:   R$ 1.827       /n\n",
            "    Apartamento com  Quarto para Aluguel, 73m²    Jardim Botânico, Rio de Janeiro - RJ  ver mapa       73   m²     1   Quarto     1   Banheiro     1   Vaga     Academia Salão de festas Escritório Área de serviço       R$ 3.800 /Mês     Condomínio:   R$ 1.097       /n\n",
            "    Apartamento com 3 Quartos para Aluguel, 105m²    Rua Lópes Quintas - Jardim Botânico, Rio de Janeiro - RJ  ver mapa       105   m²     3   Quartos     2   Banheiros     1   Vaga     Elevador Condomínio fechado Aceita animais Área de serviço Espaço verde / Parque ...       R$ 4.500 /Mês     Condomínio:   R$ 1.446       /n\n",
            "    Apartamento com 2 Quartos para Aluguel, 117m²    Rua Jardim Botânico, 728 - Jardim Botânico, Rio de Janeiro - RJ  ver mapa       117   m²     2   Quartos     1   Banheiro     --   Vaga     Elevador Área de serviço       R$ 4.000 /Mês     Condomínio:   R$ 651       /n\n",
            "    Apartamento com 3 Quartos para Aluguel, 93m²    Rua Visconde da Graça - Jardim Botânico, Rio de Janeiro - RJ  ver mapa       93   m²     3   Quartos     2   Banheiros     1   Vaga     Elevador Academia Área de serviço Playground Salão de festas ...       R$ 4.800 /Mês     Condomínio:   R$ 1.250       /n\n",
            "    Apartamento com 3 Quartos para Aluguel, 100m²    Rua Conde Afonso Celso - Jardim Botânico, Rio de Janeiro - RJ  ver mapa       100   m²     3   Quartos     3   Banheiros     1   Vaga     Ar-condicionado Elevador Aceita animais Playground       R$ 5.500 /Mês     Condomínio:   R$ 1.500       /n\n"
          ]
        }
      ]
    },
    {
      "cell_type": "markdown",
      "source": [
        "### Tratamento das listas"
      ],
      "metadata": {
        "id": "tZFHGCy8iHVf"
      }
    },
    {
      "cell_type": "code",
      "source": [
        "list_titulo = [l.replace ('  ', '') for l in list_titulo]"
      ],
      "metadata": {
        "id": "M7OTPdQaeiaD"
      },
      "execution_count": null,
      "outputs": []
    },
    {
      "cell_type": "code",
      "source": [
        "list_titulo"
      ],
      "metadata": {
        "id": "wj0RqulunuqR",
        "colab": {
          "base_uri": "https://localhost:8080/"
        },
        "outputId": "ea87ec7a-a807-4ea9-e4f6-88c7a5b4b766"
      },
      "execution_count": null,
      "outputs": [
        {
          "output_type": "execute_result",
          "data": {
            "text/plain": [
              "['Apartamento com 3 Quartos para Aluguel, 100m²',\n",
              " 'Apartamento com 2 Quartos para Aluguel, 75m²',\n",
              " 'Apartamento com 3 Quartos para Aluguel, 93m²',\n",
              " 'Apartamento com 2 Quartos para Aluguel, 79m²',\n",
              " 'Apartamento com 3 Quartos para Aluguel, 78m²',\n",
              " 'Apartamento com 3 Quartos para Aluguel, 100m²',\n",
              " 'Apartamento com 3 Quartos para Aluguel, 78m²',\n",
              " 'Apartamento com 3 Quartos para Aluguel, 73m²',\n",
              " 'Apartamento com 3 Quartos para Aluguel, 91m²',\n",
              " 'Apartamento com 3 Quartos para Aluguel, 98m²',\n",
              " 'Apartamento com 2 Quartos para Venda/Aluguel 58m²',\n",
              " 'Apartamento com 3 Quartos à Venda/Aluguel 109m²',\n",
              " 'Apartamento com 4 Quartos para Aluguel, 280m²',\n",
              " 'Apartamento com 2 Quartos para Aluguel, 90m²',\n",
              " 'Apartamento com 3 Quartos para Aluguel, 325m²',\n",
              " 'Apartamento com 3 Quartos para Aluguel, 118m²',\n",
              " 'Apartamento com 2 Quartos para Venda/Aluguel 63m²',\n",
              " 'Apartamento comQuarto para Aluguel, 64m²',\n",
              " 'Apartamento comQuarto para Aluguel, 48m²',\n",
              " 'Apartamento com 3 Quartos para Venda/Aluguel 111m²',\n",
              " 'Apartamento com 3 Quartos para Aluguel, 325m²',\n",
              " 'Apartamento com 3 Quartos para Aluguel, 100m²',\n",
              " 'Apartamento com 3 Quartos para Aluguel, 138m²',\n",
              " 'Apartamento com 2 Quartos para Aluguel, 63m²',\n",
              " 'Apartamento com 4 Quartos para Aluguel, 343m²',\n",
              " 'Apartamento com 2 Quartos para Aluguel, 85m²',\n",
              " 'Apartamento com 3 Quartos para Aluguel, 73m²',\n",
              " 'Apartamento com 3 Quartos para Aluguel, 103m²',\n",
              " 'Apartamento comQuarto para Aluguel, 56m²',\n",
              " 'Apartamento comQuarto para Aluguel, 70m²',\n",
              " 'Apartamento com 3 Quartos para Aluguel, 120m²',\n",
              " 'Apartamento comQuarto para Aluguel, 73m²',\n",
              " 'Apartamento com 3 Quartos para Aluguel, 105m²',\n",
              " 'Apartamento com 2 Quartos para Aluguel, 117m²',\n",
              " 'Apartamento com 3 Quartos para Aluguel, 93m²',\n",
              " 'Apartamento com 3 Quartos para Aluguel, 100m²',\n",
              " 'Apartamento com 3 Quartos para Aluguel, 100m²',\n",
              " 'Apartamento com 2 Quartos para Aluguel, 75m²',\n",
              " 'Apartamento com 3 Quartos para Aluguel, 93m²',\n",
              " 'Apartamento com 2 Quartos para Aluguel, 79m²',\n",
              " 'Apartamento com 3 Quartos para Aluguel, 78m²',\n",
              " 'Apartamento com 3 Quartos para Aluguel, 100m²',\n",
              " 'Apartamento com 3 Quartos para Aluguel, 78m²',\n",
              " 'Apartamento com 3 Quartos para Aluguel, 73m²',\n",
              " 'Apartamento com 3 Quartos para Aluguel, 91m²',\n",
              " 'Apartamento com 3 Quartos para Aluguel, 98m²',\n",
              " 'Apartamento com 2 Quartos para Venda/Aluguel 58m²',\n",
              " 'Apartamento com 3 Quartos à Venda/Aluguel 109m²',\n",
              " 'Apartamento com 4 Quartos para Aluguel, 280m²',\n",
              " 'Apartamento com 2 Quartos para Aluguel, 90m²',\n",
              " 'Apartamento com 3 Quartos para Aluguel, 325m²',\n",
              " 'Apartamento com 3 Quartos para Aluguel, 118m²',\n",
              " 'Apartamento com 2 Quartos para Venda/Aluguel 63m²',\n",
              " 'Apartamento comQuarto para Aluguel, 64m²',\n",
              " 'Apartamento comQuarto para Aluguel, 48m²',\n",
              " 'Apartamento com 3 Quartos para Venda/Aluguel 111m²',\n",
              " 'Apartamento com 3 Quartos para Aluguel, 325m²',\n",
              " 'Apartamento com 3 Quartos para Aluguel, 100m²',\n",
              " 'Apartamento com 3 Quartos para Aluguel, 138m²',\n",
              " 'Apartamento com 2 Quartos para Aluguel, 63m²',\n",
              " 'Apartamento com 4 Quartos para Aluguel, 343m²',\n",
              " 'Apartamento com 3 Quartos para Aluguel, 136m²',\n",
              " 'Apartamento com 2 Quartos para Aluguel, 85m²',\n",
              " 'Apartamento com 3 Quartos para Aluguel, 73m²',\n",
              " 'Apartamento com 3 Quartos para Aluguel, 103m²',\n",
              " 'Apartamento comQuarto para Aluguel, 56m²',\n",
              " 'Apartamento comQuarto para Aluguel, 70m²',\n",
              " 'Apartamento com 3 Quartos para Aluguel, 120m²',\n",
              " 'Apartamento comQuarto para Aluguel, 73m²',\n",
              " 'Apartamento com 3 Quartos para Aluguel, 105m²',\n",
              " 'Apartamento com 2 Quartos para Aluguel, 117m²',\n",
              " 'Apartamento com 3 Quartos para Aluguel, 93m²',\n",
              " 'Apartamento com 3 Quartos para Aluguel, 100m²',\n",
              " 'Apartamento com 2 Quartos para Aluguel, 75m²',\n",
              " 'Apartamento com 3 Quartos para Aluguel, 93m²',\n",
              " 'Apartamento com 2 Quartos para Aluguel, 79m²',\n",
              " 'Apartamento com 3 Quartos para Aluguel, 78m²',\n",
              " 'Apartamento com 3 Quartos para Aluguel, 100m²',\n",
              " 'Apartamento com 3 Quartos para Aluguel, 78m²',\n",
              " 'Apartamento com 3 Quartos para Aluguel, 73m²',\n",
              " 'Apartamento com 3 Quartos para Aluguel, 91m²',\n",
              " 'Apartamento com 3 Quartos para Aluguel, 98m²',\n",
              " 'Apartamento com 2 Quartos para Venda/Aluguel 58m²',\n",
              " 'Apartamento com 3 Quartos à Venda/Aluguel 109m²',\n",
              " 'Apartamento com 4 Quartos para Aluguel, 280m²',\n",
              " 'Apartamento com 2 Quartos para Aluguel, 90m²',\n",
              " 'Apartamento com 3 Quartos para Aluguel, 325m²',\n",
              " 'Apartamento com 3 Quartos para Aluguel, 118m²',\n",
              " 'Apartamento com 2 Quartos para Venda/Aluguel 63m²',\n",
              " 'Apartamento comQuarto para Aluguel, 64m²',\n",
              " 'Apartamento comQuarto para Aluguel, 48m²',\n",
              " 'Apartamento com 3 Quartos para Venda/Aluguel 111m²',\n",
              " 'Apartamento com 3 Quartos para Aluguel, 325m²',\n",
              " 'Apartamento com 3 Quartos para Aluguel, 100m²',\n",
              " 'Apartamento com 3 Quartos para Aluguel, 138m²',\n",
              " 'Apartamento com 2 Quartos para Aluguel, 63m²',\n",
              " 'Apartamento com 4 Quartos para Aluguel, 343m²',\n",
              " 'Apartamento com 2 Quartos para Aluguel, 85m²',\n",
              " 'Apartamento com 3 Quartos para Aluguel, 73m²',\n",
              " 'Apartamento com 3 Quartos para Aluguel, 103m²',\n",
              " 'Apartamento comQuarto para Aluguel, 56m²',\n",
              " 'Apartamento comQuarto para Aluguel, 70m²',\n",
              " 'Apartamento com 3 Quartos para Aluguel, 120m²',\n",
              " 'Apartamento comQuarto para Aluguel, 73m²',\n",
              " 'Apartamento com 3 Quartos para Aluguel, 105m²',\n",
              " 'Apartamento com 2 Quartos para Aluguel, 117m²',\n",
              " 'Apartamento com 3 Quartos para Aluguel, 93m²',\n",
              " 'Apartamento com 3 Quartos para Aluguel, 100m²']"
            ]
          },
          "metadata": {},
          "execution_count": 76
        }
      ]
    },
    {
      "cell_type": "code",
      "source": [
        "list_endereco = [l.split('-')[0] for l in list_endereco]"
      ],
      "metadata": {
        "id": "jNHiT1XHj0wB"
      },
      "execution_count": null,
      "outputs": []
    },
    {
      "cell_type": "code",
      "source": [
        "list_endereco"
      ],
      "metadata": {
        "id": "7w06BB6kmUdx",
        "colab": {
          "base_uri": "https://localhost:8080/"
        },
        "outputId": "757a96f7-cd8f-480f-b8d1-c1825ca09288"
      },
      "execution_count": null,
      "outputs": [
        {
          "output_type": "execute_result",
          "data": {
            "text/plain": [
              "[' Avenida Lineu de Paula Machado, 826 ',\n",
              " ' Rua Faro, 51 ',\n",
              " ' Rua Peri ',\n",
              " ' Rua Pio Correia, 92 ',\n",
              " ' Rua Von Martius ',\n",
              " ' Rua Abade Ramos ',\n",
              " ' Rua Pio Correia ',\n",
              " ' Rua Jardim Botânico ',\n",
              " ' Avenida Lineu de Paula Machado ',\n",
              " ' Rua Conde Afonso Celso, 89 ',\n",
              " ' Jardim Botânico, Rio de Janeiro ',\n",
              " ' Rua Benjamim Batista ',\n",
              " ' Rua Nascimento Bittencourt ',\n",
              " ' Rua Jardim Botânico, 227 ',\n",
              " ' Rua Benjamim Batista ',\n",
              " ' Rua Jardim Botânico ',\n",
              " ' Rua Jardim Botânico ',\n",
              " ' Rua Jardim Botânico, 667 ',\n",
              " ' Jardim Botânico, Rio de Janeiro ',\n",
              " ' Rua Benjamim Batista ',\n",
              " ' Rua Benjamim Batista ',\n",
              " ' Avenida Lineu de Paula Machado ',\n",
              " ' Rua Ingles de Sousa, 193 ',\n",
              " ' Rua Senador Simonsen, 12 ',\n",
              " ' Rua Corcovado ',\n",
              " ' Rua Lópes Quintas, 74 ',\n",
              " ' Rua Jardim Botânico ',\n",
              " ' Rua Visconde da Graça, 96 ',\n",
              " ' Jardim Botânico, Rio de Janeiro ',\n",
              " ' Rua Faro ',\n",
              " ' Avenida Lineu de Paula Machado, 1000 ',\n",
              " ' Jardim Botânico, Rio de Janeiro ',\n",
              " ' Rua Lópes Quintas ',\n",
              " ' Rua Jardim Botânico, 728 ',\n",
              " ' Rua Visconde da Graça ',\n",
              " ' Rua Conde Afonso Celso ',\n",
              " ' Avenida Lineu de Paula Machado, 826 ',\n",
              " ' Rua Faro, 51 ',\n",
              " ' Rua Peri ',\n",
              " ' Rua Pio Correia, 92 ',\n",
              " ' Rua Von Martius ',\n",
              " ' Rua Abade Ramos ',\n",
              " ' Rua Pio Correia ',\n",
              " ' Rua Jardim Botânico ',\n",
              " ' Avenida Lineu de Paula Machado ',\n",
              " ' Rua Conde Afonso Celso, 89 ',\n",
              " ' Jardim Botânico, Rio de Janeiro ',\n",
              " ' Rua Benjamim Batista ',\n",
              " ' Rua Nascimento Bittencourt ',\n",
              " ' Rua Jardim Botânico, 227 ',\n",
              " ' Rua Benjamim Batista ',\n",
              " ' Rua Jardim Botânico ',\n",
              " ' Rua Jardim Botânico ',\n",
              " ' Rua Jardim Botânico, 667 ',\n",
              " ' Jardim Botânico, Rio de Janeiro ',\n",
              " ' Rua Benjamim Batista ',\n",
              " ' Rua Benjamim Batista ',\n",
              " ' Avenida Lineu de Paula Machado ',\n",
              " ' Rua Ingles de Sousa, 193 ',\n",
              " ' Rua Senador Simonsen, 12 ',\n",
              " ' Rua Corcovado ',\n",
              " ' Rua Pio Correia ',\n",
              " ' Rua Lópes Quintas, 74 ',\n",
              " ' Rua Jardim Botânico ',\n",
              " ' Rua Visconde da Graça, 96 ',\n",
              " ' Jardim Botânico, Rio de Janeiro ',\n",
              " ' Rua Faro ',\n",
              " ' Avenida Lineu de Paula Machado, 1000 ',\n",
              " ' Jardim Botânico, Rio de Janeiro ',\n",
              " ' Rua Lópes Quintas ',\n",
              " ' Rua Jardim Botânico, 728 ',\n",
              " ' Rua Visconde da Graça ',\n",
              " ' Avenida Lineu de Paula Machado, 826 ',\n",
              " ' Rua Faro, 51 ',\n",
              " ' Rua Peri ',\n",
              " ' Rua Pio Correia, 92 ',\n",
              " ' Rua Von Martius ',\n",
              " ' Rua Abade Ramos ',\n",
              " ' Rua Pio Correia ',\n",
              " ' Rua Jardim Botânico ',\n",
              " ' Avenida Lineu de Paula Machado ',\n",
              " ' Rua Conde Afonso Celso, 89 ',\n",
              " ' Jardim Botânico, Rio de Janeiro ',\n",
              " ' Rua Benjamim Batista ',\n",
              " ' Rua Nascimento Bittencourt ',\n",
              " ' Rua Jardim Botânico, 227 ',\n",
              " ' Rua Benjamim Batista ',\n",
              " ' Rua Jardim Botânico ',\n",
              " ' Rua Jardim Botânico ',\n",
              " ' Rua Jardim Botânico, 667 ',\n",
              " ' Jardim Botânico, Rio de Janeiro ',\n",
              " ' Rua Benjamim Batista ',\n",
              " ' Rua Benjamim Batista ',\n",
              " ' Avenida Lineu de Paula Machado ',\n",
              " ' Rua Ingles de Sousa, 193 ',\n",
              " ' Rua Senador Simonsen, 12 ',\n",
              " ' Rua Corcovado ',\n",
              " ' Rua Lópes Quintas, 74 ',\n",
              " ' Rua Jardim Botânico ',\n",
              " ' Rua Visconde da Graça, 96 ',\n",
              " ' Jardim Botânico, Rio de Janeiro ',\n",
              " ' Rua Faro ',\n",
              " ' Avenida Lineu de Paula Machado, 1000 ',\n",
              " ' Jardim Botânico, Rio de Janeiro ',\n",
              " ' Rua Lópes Quintas ',\n",
              " ' Rua Jardim Botânico, 728 ',\n",
              " ' Rua Visconde da Graça ',\n",
              " ' Rua Conde Afonso Celso ']"
            ]
          },
          "metadata": {},
          "execution_count": 78
        }
      ]
    },
    {
      "cell_type": "code",
      "source": [
        "list_area = [l.replace (' ', '') for l in list_area]"
      ],
      "metadata": {
        "id": "W-20AZoIok_L"
      },
      "execution_count": null,
      "outputs": []
    },
    {
      "cell_type": "code",
      "source": [
        "list_area = [float(l) for l in list_area]"
      ],
      "metadata": {
        "id": "wpVBs9oxox8E"
      },
      "execution_count": null,
      "outputs": []
    },
    {
      "cell_type": "code",
      "source": [
        "list_quartos = [l.replace ('  ', '') for l in list_quartos]"
      ],
      "metadata": {
        "id": "gZafKZHIo15C"
      },
      "execution_count": null,
      "outputs": []
    },
    {
      "cell_type": "code",
      "source": [
        "list_quartos = [int(l.split(\"Q\")[0]) for l in list_quartos]"
      ],
      "metadata": {
        "id": "nnblwmuuzETy"
      },
      "execution_count": null,
      "outputs": []
    },
    {
      "cell_type": "code",
      "source": [
        "list_quartos"
      ],
      "metadata": {
        "id": "wUoFX0HwzYG6",
        "colab": {
          "base_uri": "https://localhost:8080/"
        },
        "outputId": "9357da28-5981-4bdd-ae05-e9014c18688b"
      },
      "execution_count": null,
      "outputs": [
        {
          "output_type": "execute_result",
          "data": {
            "text/plain": [
              "[3,\n",
              " 2,\n",
              " 3,\n",
              " 2,\n",
              " 3,\n",
              " 3,\n",
              " 3,\n",
              " 3,\n",
              " 3,\n",
              " 3,\n",
              " 2,\n",
              " 3,\n",
              " 4,\n",
              " 2,\n",
              " 3,\n",
              " 3,\n",
              " 2,\n",
              " 1,\n",
              " 1,\n",
              " 3,\n",
              " 3,\n",
              " 3,\n",
              " 3,\n",
              " 2,\n",
              " 4,\n",
              " 2,\n",
              " 3,\n",
              " 3,\n",
              " 1,\n",
              " 1,\n",
              " 3,\n",
              " 1,\n",
              " 3,\n",
              " 2,\n",
              " 3,\n",
              " 3,\n",
              " 3,\n",
              " 2,\n",
              " 3,\n",
              " 2,\n",
              " 3,\n",
              " 3,\n",
              " 3,\n",
              " 3,\n",
              " 3,\n",
              " 3,\n",
              " 2,\n",
              " 3,\n",
              " 4,\n",
              " 2,\n",
              " 3,\n",
              " 3,\n",
              " 2,\n",
              " 1,\n",
              " 1,\n",
              " 3,\n",
              " 3,\n",
              " 3,\n",
              " 3,\n",
              " 2,\n",
              " 4,\n",
              " 3,\n",
              " 2,\n",
              " 3,\n",
              " 3,\n",
              " 1,\n",
              " 1,\n",
              " 3,\n",
              " 1,\n",
              " 3,\n",
              " 2,\n",
              " 3,\n",
              " 3,\n",
              " 2,\n",
              " 3,\n",
              " 2,\n",
              " 3,\n",
              " 3,\n",
              " 3,\n",
              " 3,\n",
              " 3,\n",
              " 3,\n",
              " 2,\n",
              " 3,\n",
              " 4,\n",
              " 2,\n",
              " 3,\n",
              " 3,\n",
              " 2,\n",
              " 1,\n",
              " 1,\n",
              " 3,\n",
              " 3,\n",
              " 3,\n",
              " 3,\n",
              " 2,\n",
              " 4,\n",
              " 2,\n",
              " 3,\n",
              " 3,\n",
              " 1,\n",
              " 1,\n",
              " 3,\n",
              " 1,\n",
              " 3,\n",
              " 2,\n",
              " 3,\n",
              " 3]"
            ]
          },
          "metadata": {},
          "execution_count": 83
        }
      ]
    },
    {
      "cell_type": "code",
      "source": [
        "list_banheiros = [l.replace ('  ', '') for l in list_banheiros]"
      ],
      "metadata": {
        "id": "wMjR_VzfsBqU"
      },
      "execution_count": null,
      "outputs": []
    },
    {
      "cell_type": "code",
      "source": [
        "list_banheiros = [int(l.split(\" \")[0]) for l in list_banheiros]"
      ],
      "metadata": {
        "id": "HI_hqFnRsKJW"
      },
      "execution_count": null,
      "outputs": []
    },
    {
      "cell_type": "code",
      "source": [
        "list_banheiros"
      ],
      "metadata": {
        "id": "V78qq2Fw0GKV",
        "colab": {
          "base_uri": "https://localhost:8080/"
        },
        "outputId": "01f40ff3-470e-456e-d7bf-940118788aea"
      },
      "execution_count": null,
      "outputs": [
        {
          "output_type": "execute_result",
          "data": {
            "text/plain": [
              "[2,\n",
              " 3,\n",
              " 2,\n",
              " 2,\n",
              " 2,\n",
              " 2,\n",
              " 2,\n",
              " 3,\n",
              " 3,\n",
              " 1,\n",
              " 1,\n",
              " 2,\n",
              " 4,\n",
              " 2,\n",
              " 3,\n",
              " 2,\n",
              " 3,\n",
              " 1,\n",
              " 1,\n",
              " 2,\n",
              " 3,\n",
              " 3,\n",
              " 3,\n",
              " 2,\n",
              " 5,\n",
              " 2,\n",
              " 2,\n",
              " 2,\n",
              " 1,\n",
              " 1,\n",
              " 3,\n",
              " 1,\n",
              " 2,\n",
              " 1,\n",
              " 2,\n",
              " 3,\n",
              " 2,\n",
              " 3,\n",
              " 2,\n",
              " 2,\n",
              " 2,\n",
              " 2,\n",
              " 2,\n",
              " 3,\n",
              " 3,\n",
              " 1,\n",
              " 1,\n",
              " 2,\n",
              " 4,\n",
              " 2,\n",
              " 3,\n",
              " 2,\n",
              " 3,\n",
              " 1,\n",
              " 1,\n",
              " 2,\n",
              " 3,\n",
              " 3,\n",
              " 3,\n",
              " 2,\n",
              " 5,\n",
              " 3,\n",
              " 2,\n",
              " 2,\n",
              " 2,\n",
              " 1,\n",
              " 1,\n",
              " 3,\n",
              " 1,\n",
              " 2,\n",
              " 1,\n",
              " 2,\n",
              " 2,\n",
              " 3,\n",
              " 2,\n",
              " 2,\n",
              " 2,\n",
              " 2,\n",
              " 2,\n",
              " 3,\n",
              " 3,\n",
              " 1,\n",
              " 1,\n",
              " 2,\n",
              " 4,\n",
              " 2,\n",
              " 3,\n",
              " 2,\n",
              " 3,\n",
              " 1,\n",
              " 1,\n",
              " 2,\n",
              " 3,\n",
              " 3,\n",
              " 3,\n",
              " 2,\n",
              " 5,\n",
              " 2,\n",
              " 2,\n",
              " 2,\n",
              " 1,\n",
              " 1,\n",
              " 3,\n",
              " 1,\n",
              " 2,\n",
              " 1,\n",
              " 2,\n",
              " 3]"
            ]
          },
          "metadata": {},
          "execution_count": 86
        }
      ]
    },
    {
      "cell_type": "code",
      "source": [
        "list_garagem = [l.replace ('  ', '') for l in list_garagem]"
      ],
      "metadata": {
        "id": "d17SVp_0sPJj"
      },
      "execution_count": null,
      "outputs": []
    },
    {
      "cell_type": "code",
      "source": [
        "list_garagem = [int(l.split(' ')[0]) if l != '-- Vaga' else 0 for l in list_garagem]"
      ],
      "metadata": {
        "id": "XUnIkgRZsVM7"
      },
      "execution_count": null,
      "outputs": []
    },
    {
      "cell_type": "code",
      "source": [
        "list_garagem"
      ],
      "metadata": {
        "id": "zj9qbkP00bLB",
        "colab": {
          "base_uri": "https://localhost:8080/"
        },
        "outputId": "0db6a935-06a7-4520-fb96-63319fb47568"
      },
      "execution_count": null,
      "outputs": [
        {
          "output_type": "execute_result",
          "data": {
            "text/plain": [
              "[1,\n",
              " 1,\n",
              " 1,\n",
              " 1,\n",
              " 0,\n",
              " 0,\n",
              " 1,\n",
              " 1,\n",
              " 1,\n",
              " 0,\n",
              " 0,\n",
              " 0,\n",
              " 2,\n",
              " 1,\n",
              " 2,\n",
              " 1,\n",
              " 1,\n",
              " 0,\n",
              " 1,\n",
              " 1,\n",
              " 3,\n",
              " 1,\n",
              " 1,\n",
              " 1,\n",
              " 3,\n",
              " 1,\n",
              " 1,\n",
              " 1,\n",
              " 0,\n",
              " 0,\n",
              " 2,\n",
              " 1,\n",
              " 1,\n",
              " 0,\n",
              " 1,\n",
              " 1,\n",
              " 1,\n",
              " 1,\n",
              " 1,\n",
              " 1,\n",
              " 0,\n",
              " 0,\n",
              " 1,\n",
              " 1,\n",
              " 1,\n",
              " 0,\n",
              " 0,\n",
              " 0,\n",
              " 2,\n",
              " 1,\n",
              " 2,\n",
              " 1,\n",
              " 1,\n",
              " 0,\n",
              " 1,\n",
              " 1,\n",
              " 3,\n",
              " 1,\n",
              " 1,\n",
              " 1,\n",
              " 3,\n",
              " 2,\n",
              " 1,\n",
              " 1,\n",
              " 1,\n",
              " 0,\n",
              " 0,\n",
              " 2,\n",
              " 1,\n",
              " 1,\n",
              " 0,\n",
              " 1,\n",
              " 1,\n",
              " 1,\n",
              " 1,\n",
              " 1,\n",
              " 0,\n",
              " 0,\n",
              " 1,\n",
              " 1,\n",
              " 1,\n",
              " 0,\n",
              " 0,\n",
              " 0,\n",
              " 2,\n",
              " 1,\n",
              " 2,\n",
              " 1,\n",
              " 1,\n",
              " 0,\n",
              " 1,\n",
              " 1,\n",
              " 3,\n",
              " 1,\n",
              " 1,\n",
              " 1,\n",
              " 3,\n",
              " 1,\n",
              " 1,\n",
              " 1,\n",
              " 0,\n",
              " 0,\n",
              " 2,\n",
              " 1,\n",
              " 1,\n",
              " 0,\n",
              " 1,\n",
              " 1]"
            ]
          },
          "metadata": {},
          "execution_count": 89
        }
      ]
    },
    {
      "cell_type": "code",
      "source": [
        "list_preco = [l.replace ('  ', '') for l in list_preco]"
      ],
      "metadata": {
        "id": "6W0vE08wsZKs"
      },
      "execution_count": null,
      "outputs": []
    },
    {
      "cell_type": "code",
      "source": [
        "list_preco = [float(l.split(' ')[1].replace('.',''))for l in list_preco]"
      ],
      "metadata": {
        "id": "hfabuqiKsZ72"
      },
      "execution_count": null,
      "outputs": []
    },
    {
      "cell_type": "code",
      "source": [
        "list_preco "
      ],
      "metadata": {
        "id": "tBHSozL70x4g",
        "colab": {
          "base_uri": "https://localhost:8080/"
        },
        "outputId": "97d9c619-7826-4274-e1cb-b5462efa9fc5"
      },
      "execution_count": null,
      "outputs": [
        {
          "output_type": "execute_result",
          "data": {
            "text/plain": [
              "[3900.0,\n",
              " 4000.0,\n",
              " 4500.0,\n",
              " 2800.0,\n",
              " 2500.0,\n",
              " 4500.0,\n",
              " 5500.0,\n",
              " 4100.0,\n",
              " 4300.0,\n",
              " 4200.0,\n",
              " 3500.0,\n",
              " 4800.0,\n",
              " 19500.0,\n",
              " 2500.0,\n",
              " 13000.0,\n",
              " 3600.0,\n",
              " 3000.0,\n",
              " 4500.0,\n",
              " 2680.0,\n",
              " 5000.0,\n",
              " 13000.0,\n",
              " 3900.0,\n",
              " 4800.0,\n",
              " 3000.0,\n",
              " 13000.0,\n",
              " 4300.0,\n",
              " 4200.0,\n",
              " 5300.0,\n",
              " 4200.0,\n",
              " 3100.0,\n",
              " 7500.0,\n",
              " 3800.0,\n",
              " 4500.0,\n",
              " 4000.0,\n",
              " 4800.0,\n",
              " 5500.0,\n",
              " 3900.0,\n",
              " 4000.0,\n",
              " 4500.0,\n",
              " 2800.0,\n",
              " 2500.0,\n",
              " 4500.0,\n",
              " 5500.0,\n",
              " 4100.0,\n",
              " 4300.0,\n",
              " 4200.0,\n",
              " 3500.0,\n",
              " 4800.0,\n",
              " 19500.0,\n",
              " 2500.0,\n",
              " 13000.0,\n",
              " 3600.0,\n",
              " 3000.0,\n",
              " 4500.0,\n",
              " 2680.0,\n",
              " 5000.0,\n",
              " 13000.0,\n",
              " 3900.0,\n",
              " 4800.0,\n",
              " 3000.0,\n",
              " 13000.0,\n",
              " 5400.0,\n",
              " 4300.0,\n",
              " 4200.0,\n",
              " 5300.0,\n",
              " 4200.0,\n",
              " 3100.0,\n",
              " 7500.0,\n",
              " 3800.0,\n",
              " 4500.0,\n",
              " 4000.0,\n",
              " 4800.0,\n",
              " 3900.0,\n",
              " 4000.0,\n",
              " 4500.0,\n",
              " 2800.0,\n",
              " 2500.0,\n",
              " 4500.0,\n",
              " 5500.0,\n",
              " 4100.0,\n",
              " 4300.0,\n",
              " 4200.0,\n",
              " 3500.0,\n",
              " 4800.0,\n",
              " 19500.0,\n",
              " 2500.0,\n",
              " 13000.0,\n",
              " 3600.0,\n",
              " 3000.0,\n",
              " 4500.0,\n",
              " 2680.0,\n",
              " 5000.0,\n",
              " 13000.0,\n",
              " 3900.0,\n",
              " 4800.0,\n",
              " 3000.0,\n",
              " 13000.0,\n",
              " 4300.0,\n",
              " 4200.0,\n",
              " 5300.0,\n",
              " 4200.0,\n",
              " 3100.0,\n",
              " 7500.0,\n",
              " 3800.0,\n",
              " 4500.0,\n",
              " 4000.0,\n",
              " 4800.0,\n",
              " 5500.0]"
            ]
          },
          "metadata": {},
          "execution_count": 92
        }
      ]
    },
    {
      "cell_type": "code",
      "source": [
        "list_condominio = [l.replace (' Condomínio:   ', '') for l in list_condominio]"
      ],
      "metadata": {
        "id": "0I6RJyf_spcr"
      },
      "execution_count": null,
      "outputs": []
    },
    {
      "cell_type": "code",
      "source": [
        "list_condominio =  [l.replace ('   ', '') for l in list_condominio]"
      ],
      "metadata": {
        "id": "VrFY8kJSstEF"
      },
      "execution_count": null,
      "outputs": []
    },
    {
      "cell_type": "code",
      "source": [
        "list_condominio = [float(l.split(' ')[1].replace('.', '')) for l in list_condominio]"
      ],
      "metadata": {
        "id": "0C1M9xL_s_Wz"
      },
      "execution_count": null,
      "outputs": []
    },
    {
      "cell_type": "code",
      "source": [
        "list_condominio"
      ],
      "metadata": {
        "id": "CqCNzdLMvnaO",
        "colab": {
          "base_uri": "https://localhost:8080/"
        },
        "outputId": "78d7babd-11f8-43a5-ae59-31a75e39d934"
      },
      "execution_count": null,
      "outputs": [
        {
          "output_type": "execute_result",
          "data": {
            "text/plain": [
              "[1424.0,\n",
              " 1188.0,\n",
              " 1216.0,\n",
              " 1536.0,\n",
              " 953.0,\n",
              " 1150.0,\n",
              " 730.0,\n",
              " 1293.0,\n",
              " 1200.0,\n",
              " 1160.0,\n",
              " 506.0,\n",
              " 952.0,\n",
              " 2536.0,\n",
              " 1170.0,\n",
              " 2300.0,\n",
              " 1005.0,\n",
              " 1100.0,\n",
              " 837.0,\n",
              " 941.0,\n",
              " 1732.0,\n",
              " 2300.0,\n",
              " 1424.0,\n",
              " 600.0,\n",
              " 459.0,\n",
              " 4459.0,\n",
              " 832.0,\n",
              " 1100.0,\n",
              " 1400.0,\n",
              " 300.0,\n",
              " 1330.0,\n",
              " 1827.0,\n",
              " 1097.0,\n",
              " 1446.0,\n",
              " 651.0,\n",
              " 1250.0,\n",
              " 1500.0,\n",
              " 1424.0,\n",
              " 1188.0,\n",
              " 1216.0,\n",
              " 1536.0,\n",
              " 953.0,\n",
              " 1150.0,\n",
              " 730.0,\n",
              " 1293.0,\n",
              " 1200.0,\n",
              " 1160.0,\n",
              " 506.0,\n",
              " 952.0,\n",
              " 2536.0,\n",
              " 1170.0,\n",
              " 2300.0,\n",
              " 1005.0,\n",
              " 1100.0,\n",
              " 837.0,\n",
              " 941.0,\n",
              " 1732.0,\n",
              " 2300.0,\n",
              " 1424.0,\n",
              " 600.0,\n",
              " 459.0,\n",
              " 4459.0,\n",
              " 1600.0,\n",
              " 832.0,\n",
              " 1100.0,\n",
              " 1400.0,\n",
              " 300.0,\n",
              " 1330.0,\n",
              " 1827.0,\n",
              " 1097.0,\n",
              " 1446.0,\n",
              " 651.0,\n",
              " 1250.0,\n",
              " 1424.0,\n",
              " 1188.0,\n",
              " 1216.0,\n",
              " 1536.0,\n",
              " 953.0,\n",
              " 1150.0,\n",
              " 730.0,\n",
              " 1293.0,\n",
              " 1200.0,\n",
              " 1160.0,\n",
              " 506.0,\n",
              " 952.0,\n",
              " 2536.0,\n",
              " 1170.0,\n",
              " 2300.0,\n",
              " 1005.0,\n",
              " 1100.0,\n",
              " 837.0,\n",
              " 941.0,\n",
              " 1732.0,\n",
              " 2300.0,\n",
              " 1424.0,\n",
              " 600.0,\n",
              " 459.0,\n",
              " 4459.0,\n",
              " 832.0,\n",
              " 1100.0,\n",
              " 1400.0,\n",
              " 300.0,\n",
              " 1330.0,\n",
              " 1827.0,\n",
              " 1097.0,\n",
              " 1446.0,\n",
              " 651.0,\n",
              " 1250.0,\n",
              " 1500.0]"
            ]
          },
          "metadata": {},
          "execution_count": 96
        }
      ]
    },
    {
      "cell_type": "markdown",
      "source": [
        "### Construindo dataset"
      ],
      "metadata": {
        "id": "RdARoDQuvqk_"
      }
    },
    {
      "cell_type": "code",
      "source": [
        "df = pd.DataFrame({'Titulo': list_titulo,\n",
        "                        'Endereco': list_endereco,\n",
        "                        'Area': list_area,\n",
        "                        'Quartos': list_quartos,\n",
        "                        'Banheiros': list_banheiros,\n",
        "                        'Vagas': list_garagem,\n",
        "                        'Preco': list_preco,\n",
        "                        'Condomínio': list_condominio})"
      ],
      "metadata": {
        "id": "LAhttVk2vnTu"
      },
      "execution_count": null,
      "outputs": []
    },
    {
      "cell_type": "code",
      "source": [
        "df['Valor Total'] = df['Preco'] + df['Condomínio']"
      ],
      "metadata": {
        "id": "-apwRrm8107K"
      },
      "execution_count": null,
      "outputs": []
    },
    {
      "cell_type": "code",
      "source": [
        "df['Valor M2'] = df['Valor Total'] / df['Area']"
      ],
      "metadata": {
        "id": "pbSLhWeQli3k"
      },
      "execution_count": null,
      "outputs": []
    },
    {
      "cell_type": "code",
      "source": [
        "df.head()"
      ],
      "metadata": {
        "colab": {
          "base_uri": "https://localhost:8080/",
          "height": 206
        },
        "id": "MY9WKlqb1yju",
        "outputId": "cfe6f892-a698-4ecc-bcd2-3aa1258ae983"
      },
      "execution_count": null,
      "outputs": [
        {
          "output_type": "execute_result",
          "data": {
            "text/plain": [
              "                                          Titulo  \\\n",
              "0  Apartamento com 3 Quartos para Aluguel, 100m²   \n",
              "1   Apartamento com 2 Quartos para Aluguel, 75m²   \n",
              "2   Apartamento com 3 Quartos para Aluguel, 93m²   \n",
              "3   Apartamento com 2 Quartos para Aluguel, 79m²   \n",
              "4   Apartamento com 3 Quartos para Aluguel, 78m²   \n",
              "\n",
              "                                Endereco   Area  Quartos  Banheiros  Vagas  \\\n",
              "0   Avenida Lineu de Paula Machado, 826   100.0        3          2      1   \n",
              "1                          Rua Faro, 51    75.0        2          3      1   \n",
              "2                              Rua Peri    93.0        3          2      1   \n",
              "3                   Rua Pio Correia, 92    79.0        2          2      1   \n",
              "4                       Rua Von Martius    78.0        3          2      0   \n",
              "\n",
              "    Preco  Condomínio  Valor Total   Valor M2  \n",
              "0  3900.0      1424.0       5324.0  53.240000  \n",
              "1  4000.0      1188.0       5188.0  69.173333  \n",
              "2  4500.0      1216.0       5716.0  61.462366  \n",
              "3  2800.0      1536.0       4336.0  54.886076  \n",
              "4  2500.0       953.0       3453.0  44.269231  "
            ],
            "text/html": [
              "\n",
              "  <div id=\"df-4238ae0e-0b00-4e20-94fd-64b28d213b66\">\n",
              "    <div class=\"colab-df-container\">\n",
              "      <div>\n",
              "<style scoped>\n",
              "    .dataframe tbody tr th:only-of-type {\n",
              "        vertical-align: middle;\n",
              "    }\n",
              "\n",
              "    .dataframe tbody tr th {\n",
              "        vertical-align: top;\n",
              "    }\n",
              "\n",
              "    .dataframe thead th {\n",
              "        text-align: right;\n",
              "    }\n",
              "</style>\n",
              "<table border=\"1\" class=\"dataframe\">\n",
              "  <thead>\n",
              "    <tr style=\"text-align: right;\">\n",
              "      <th></th>\n",
              "      <th>Titulo</th>\n",
              "      <th>Endereco</th>\n",
              "      <th>Area</th>\n",
              "      <th>Quartos</th>\n",
              "      <th>Banheiros</th>\n",
              "      <th>Vagas</th>\n",
              "      <th>Preco</th>\n",
              "      <th>Condomínio</th>\n",
              "      <th>Valor Total</th>\n",
              "      <th>Valor M2</th>\n",
              "    </tr>\n",
              "  </thead>\n",
              "  <tbody>\n",
              "    <tr>\n",
              "      <th>0</th>\n",
              "      <td>Apartamento com 3 Quartos para Aluguel, 100m²</td>\n",
              "      <td>Avenida Lineu de Paula Machado, 826</td>\n",
              "      <td>100.0</td>\n",
              "      <td>3</td>\n",
              "      <td>2</td>\n",
              "      <td>1</td>\n",
              "      <td>3900.0</td>\n",
              "      <td>1424.0</td>\n",
              "      <td>5324.0</td>\n",
              "      <td>53.240000</td>\n",
              "    </tr>\n",
              "    <tr>\n",
              "      <th>1</th>\n",
              "      <td>Apartamento com 2 Quartos para Aluguel, 75m²</td>\n",
              "      <td>Rua Faro, 51</td>\n",
              "      <td>75.0</td>\n",
              "      <td>2</td>\n",
              "      <td>3</td>\n",
              "      <td>1</td>\n",
              "      <td>4000.0</td>\n",
              "      <td>1188.0</td>\n",
              "      <td>5188.0</td>\n",
              "      <td>69.173333</td>\n",
              "    </tr>\n",
              "    <tr>\n",
              "      <th>2</th>\n",
              "      <td>Apartamento com 3 Quartos para Aluguel, 93m²</td>\n",
              "      <td>Rua Peri</td>\n",
              "      <td>93.0</td>\n",
              "      <td>3</td>\n",
              "      <td>2</td>\n",
              "      <td>1</td>\n",
              "      <td>4500.0</td>\n",
              "      <td>1216.0</td>\n",
              "      <td>5716.0</td>\n",
              "      <td>61.462366</td>\n",
              "    </tr>\n",
              "    <tr>\n",
              "      <th>3</th>\n",
              "      <td>Apartamento com 2 Quartos para Aluguel, 79m²</td>\n",
              "      <td>Rua Pio Correia, 92</td>\n",
              "      <td>79.0</td>\n",
              "      <td>2</td>\n",
              "      <td>2</td>\n",
              "      <td>1</td>\n",
              "      <td>2800.0</td>\n",
              "      <td>1536.0</td>\n",
              "      <td>4336.0</td>\n",
              "      <td>54.886076</td>\n",
              "    </tr>\n",
              "    <tr>\n",
              "      <th>4</th>\n",
              "      <td>Apartamento com 3 Quartos para Aluguel, 78m²</td>\n",
              "      <td>Rua Von Martius</td>\n",
              "      <td>78.0</td>\n",
              "      <td>3</td>\n",
              "      <td>2</td>\n",
              "      <td>0</td>\n",
              "      <td>2500.0</td>\n",
              "      <td>953.0</td>\n",
              "      <td>3453.0</td>\n",
              "      <td>44.269231</td>\n",
              "    </tr>\n",
              "  </tbody>\n",
              "</table>\n",
              "</div>\n",
              "      <button class=\"colab-df-convert\" onclick=\"convertToInteractive('df-4238ae0e-0b00-4e20-94fd-64b28d213b66')\"\n",
              "              title=\"Convert this dataframe to an interactive table.\"\n",
              "              style=\"display:none;\">\n",
              "        \n",
              "  <svg xmlns=\"http://www.w3.org/2000/svg\" height=\"24px\"viewBox=\"0 0 24 24\"\n",
              "       width=\"24px\">\n",
              "    <path d=\"M0 0h24v24H0V0z\" fill=\"none\"/>\n",
              "    <path d=\"M18.56 5.44l.94 2.06.94-2.06 2.06-.94-2.06-.94-.94-2.06-.94 2.06-2.06.94zm-11 1L8.5 8.5l.94-2.06 2.06-.94-2.06-.94L8.5 2.5l-.94 2.06-2.06.94zm10 10l.94 2.06.94-2.06 2.06-.94-2.06-.94-.94-2.06-.94 2.06-2.06.94z\"/><path d=\"M17.41 7.96l-1.37-1.37c-.4-.4-.92-.59-1.43-.59-.52 0-1.04.2-1.43.59L10.3 9.45l-7.72 7.72c-.78.78-.78 2.05 0 2.83L4 21.41c.39.39.9.59 1.41.59.51 0 1.02-.2 1.41-.59l7.78-7.78 2.81-2.81c.8-.78.8-2.07 0-2.86zM5.41 20L4 18.59l7.72-7.72 1.47 1.35L5.41 20z\"/>\n",
              "  </svg>\n",
              "      </button>\n",
              "      \n",
              "  <style>\n",
              "    .colab-df-container {\n",
              "      display:flex;\n",
              "      flex-wrap:wrap;\n",
              "      gap: 12px;\n",
              "    }\n",
              "\n",
              "    .colab-df-convert {\n",
              "      background-color: #E8F0FE;\n",
              "      border: none;\n",
              "      border-radius: 50%;\n",
              "      cursor: pointer;\n",
              "      display: none;\n",
              "      fill: #1967D2;\n",
              "      height: 32px;\n",
              "      padding: 0 0 0 0;\n",
              "      width: 32px;\n",
              "    }\n",
              "\n",
              "    .colab-df-convert:hover {\n",
              "      background-color: #E2EBFA;\n",
              "      box-shadow: 0px 1px 2px rgba(60, 64, 67, 0.3), 0px 1px 3px 1px rgba(60, 64, 67, 0.15);\n",
              "      fill: #174EA6;\n",
              "    }\n",
              "\n",
              "    [theme=dark] .colab-df-convert {\n",
              "      background-color: #3B4455;\n",
              "      fill: #D2E3FC;\n",
              "    }\n",
              "\n",
              "    [theme=dark] .colab-df-convert:hover {\n",
              "      background-color: #434B5C;\n",
              "      box-shadow: 0px 1px 3px 1px rgba(0, 0, 0, 0.15);\n",
              "      filter: drop-shadow(0px 1px 2px rgba(0, 0, 0, 0.3));\n",
              "      fill: #FFFFFF;\n",
              "    }\n",
              "  </style>\n",
              "\n",
              "      <script>\n",
              "        const buttonEl =\n",
              "          document.querySelector('#df-4238ae0e-0b00-4e20-94fd-64b28d213b66 button.colab-df-convert');\n",
              "        buttonEl.style.display =\n",
              "          google.colab.kernel.accessAllowed ? 'block' : 'none';\n",
              "\n",
              "        async function convertToInteractive(key) {\n",
              "          const element = document.querySelector('#df-4238ae0e-0b00-4e20-94fd-64b28d213b66');\n",
              "          const dataTable =\n",
              "            await google.colab.kernel.invokeFunction('convertToInteractive',\n",
              "                                                     [key], {});\n",
              "          if (!dataTable) return;\n",
              "\n",
              "          const docLinkHtml = 'Like what you see? Visit the ' +\n",
              "            '<a target=\"_blank\" href=https://colab.research.google.com/notebooks/data_table.ipynb>data table notebook</a>'\n",
              "            + ' to learn more about interactive tables.';\n",
              "          element.innerHTML = '';\n",
              "          dataTable['output_type'] = 'display_data';\n",
              "          await google.colab.output.renderOutput(dataTable, element);\n",
              "          const docLink = document.createElement('div');\n",
              "          docLink.innerHTML = docLinkHtml;\n",
              "          element.appendChild(docLink);\n",
              "        }\n",
              "      </script>\n",
              "    </div>\n",
              "  </div>\n",
              "  "
            ]
          },
          "metadata": {},
          "execution_count": 138
        }
      ]
    },
    {
      "cell_type": "markdown",
      "source": [
        "### Analisando os Resultados"
      ],
      "metadata": {
        "id": "r1YGzPG32Wyr"
      }
    },
    {
      "cell_type": "code",
      "source": [
        "import matplotlib.pyplot as plt\n",
        "import seaborn as sns"
      ],
      "metadata": {
        "id": "oCq-L4zwCKxE"
      },
      "execution_count": null,
      "outputs": []
    },
    {
      "cell_type": "code",
      "source": [
        "# Distribuição por boxplot do valor TOTAL\n",
        "\n",
        "fig, ax = plt.subplots(figsize=(10, 6))\n",
        "sns.boxplot(x= 'Valor Total', data= df, width= .65)\n",
        "ax.xaxis.grid(True)\n",
        "sns.despine(trim=False, left=True)"
      ],
      "metadata": {
        "colab": {
          "base_uri": "https://localhost:8080/",
          "height": 388
        },
        "id": "AbmB2gg9EdCN",
        "outputId": "33ceda0d-0810-4cfa-9f98-55985b1c5cf0"
      },
      "execution_count": null,
      "outputs": [
        {
          "output_type": "display_data",
          "data": {
            "text/plain": [
              "<Figure size 720x432 with 1 Axes>"
            ],
            "image/png": "[encoded data removed]"
          },
          "metadata": {
            "needs_background": "light"
          }
        }
      ]
    },
    {
      "cell_type": "code",
      "source": [
        "# Distribuição por boxplot do valor do ALUGUEL\n",
        "\n",
        "fig, ax = plt.subplots(figsize=(10, 6))\n",
        "sns.boxplot(x= 'Preco', data= df, width= .65)\n",
        "ax.xaxis.grid(True)\n",
        "sns.despine(trim=False, left=True)"
      ],
      "metadata": {
        "colab": {
          "base_uri": "https://localhost:8080/",
          "height": 388
        },
        "id": "8GiTRXZTTm2Q",
        "outputId": "760a7161-f20b-4305-becf-73dfdfac86ad"
      },
      "execution_count": null,
      "outputs": [
        {
          "output_type": "display_data",
          "data": {
            "text/plain": [
              "<Figure size 720x432 with 1 Axes>"
            ],
            "image/png": "[encoded data removed]"
          },
          "metadata": {
            "needs_background": "light"
          }
        }
      ]
    },
    {
      "cell_type": "code",
      "source": [
        "# Distribuição por boxplot do valor do CONDO\n",
        "\n",
        "fig, ax = plt.subplots(figsize=(10, 6))\n",
        "sns.boxplot(x= 'Condomínio', data= df, width= .65)\n",
        "ax.xaxis.grid(True)\n",
        "sns.despine(trim=False, left=True)"
      ],
      "metadata": {
        "colab": {
          "base_uri": "https://localhost:8080/",
          "height": 388
        },
        "id": "-L8rT7O6TyPn",
        "outputId": "af0144cd-fc18-403f-9aa6-6ab425128902"
      },
      "execution_count": null,
      "outputs": [
        {
          "output_type": "display_data",
          "data": {
            "text/plain": [
              "<Figure size 720x432 with 1 Axes>"
            ],
            "image/png": "[encoded data removed]"
          },
          "metadata": {
            "needs_background": "light"
          }
        }
      ]
    },
    {
      "cell_type": "markdown",
      "source": [
        "###Comparativo"
      ],
      "metadata": {
        "id": "gcH6tsuKVb-S"
      }
    },
    {
      "cell_type": "code",
      "source": [
        "# Plotando boxplots para avaliar distribuição por quartos TOTAL\n",
        "\n",
        "fig, ax = plt.subplots(figsize=(10, 6))\n",
        "sns.boxplot(x= 'Quartos', y= 'Valor Total', data= df, width= .65, palette='vlag')\n",
        "ax.xaxis.grid(True)\n",
        "sns.despine(trim=False, left=True)\n"
      ],
      "metadata": {
        "colab": {
          "base_uri": "https://localhost:8080/",
          "height": 388
        },
        "id": "EYWWa_p12ZUw",
        "outputId": "71c7189b-347a-470f-b069-be6229afef92"
      },
      "execution_count": null,
      "outputs": [
        {
          "output_type": "display_data",
          "data": {
            "text/plain": [
              "<Figure size 720x432 with 1 Axes>"
            ],
            "image/png": "[encoded data removed]"
          },
          "metadata": {
            "needs_background": "light"
          }
        }
      ]
    },
    {
      "cell_type": "code",
      "source": [
        "# Plotando boxplots para avaliar distribuição por quartos ALUGUEL\n",
        "\n",
        "fig, ax = plt.subplots(figsize=(10, 6))\n",
        "sns.boxplot(x= 'Quartos', y= 'Preco', data= df, width= .65, palette='vlag')\n",
        "ax.xaxis.grid(True)\n",
        "sns.despine(trim=False, left=True)"
      ],
      "metadata": {
        "colab": {
          "base_uri": "https://localhost:8080/",
          "height": 388
        },
        "id": "cLJ8IM1-UE0U",
        "outputId": "5cc2c19c-ebe0-4345-f2bc-8deddee4f8b6"
      },
      "execution_count": null,
      "outputs": [
        {
          "output_type": "display_data",
          "data": {
            "text/plain": [
              "<Figure size 720x432 with 1 Axes>"
            ],
            "image/png": "[encoded data removed]"
          },
          "metadata": {
            "needs_background": "light"
          }
        }
      ]
    },
    {
      "cell_type": "code",
      "source": [
        "# Plotando boxplots para avaliar distribuição por quartos CONDO\n",
        "\n",
        "fig, ax = plt.subplots(figsize=(10, 6))\n",
        "sns.boxplot(x= 'Quartos', y= 'Condomínio', data= df, width= .65, palette='vlag')\n",
        "ax.xaxis.grid(True)\n",
        "sns.despine(trim=False, left=True)"
      ],
      "metadata": {
        "colab": {
          "base_uri": "https://localhost:8080/",
          "height": 388
        },
        "id": "G2cwogZ3ULEk",
        "outputId": "7dcdf02f-1374-45af-cbb9-6d294d9cd4e6"
      },
      "execution_count": null,
      "outputs": [
        {
          "output_type": "display_data",
          "data": {
            "text/plain": [
              "<Figure size 720x432 with 1 Axes>"
            ],
            "image/png": "[encoded data removed]"
          },
          "metadata": {
            "needs_background": "light"
          }
        }
      ]
    },
    {
      "cell_type": "markdown",
      "source": [
        "### Apartamentos com 2 dormitórios"
      ],
      "metadata": {
        "id": "o65wX7ZAU_s8"
      }
    },
    {
      "cell_type": "code",
      "source": [
        "y = [df[df['Quartos'] == 2]]\n",
        "df2 = pd.DataFrame(y[0])\n",
        "\n",
        "df2"
      ],
      "metadata": {
        "id": "_N3Y7oauJLzw"
      },
      "execution_count": null,
      "outputs": []
    },
    {
      "cell_type": "code",
      "source": [
        "#Segmentado por quantidade de quartos 2 TOTAL\n",
        "\n",
        "fig, ax = plt.subplots(figsize=(10, 6))\n",
        "sns.boxplot(x= 'Valor Total', data= df2, width= .65)\n",
        "ax.xaxis.grid(True)\n",
        "sns.despine(trim=False, left=True)"
      ],
      "metadata": {
        "colab": {
          "base_uri": "https://localhost:8080/",
          "height": 388
        },
        "id": "Yza3peCFGRXv",
        "outputId": "1464ac6e-0eeb-4664-ca0d-8a07e1bf4b5c"
      },
      "execution_count": null,
      "outputs": [
        {
          "output_type": "display_data",
          "data": {
            "text/plain": [
              "<Figure size 720x432 with 1 Axes>"
            ],
            "image/png": "[encoded data removed]"
          },
          "metadata": {
            "needs_background": "light"
          }
        }
      ]
    },
    {
      "cell_type": "code",
      "source": [
        "print(f\" A média de valores para 2 quartos é: {df2['Valor Total'].mean()}\")\n",
        "print(f\" A mediana de valores para 2 quartos é: {df2['Valor Total'].median()}\")\n",
        "print(f\" O Valor máximo é: {df2['Valor Total'].max()}\")\n",
        "print(f\" O Valor mínimo é: {df2['Valor Total'].min()}\\n\")\n",
        "\n",
        "print(f\" O total de imóveis com 2 quartos é: {len(df2['Valor Total'])}\")"
      ],
      "metadata": {
        "colab": {
          "base_uri": "https://localhost:8080/"
        },
        "id": "mgT15WQFRGPC",
        "outputId": "f4222f5f-dffa-405f-a8b2-1c20c7286509"
      },
      "execution_count": null,
      "outputs": [
        {
          "output_type": "stream",
          "name": "stdout",
          "text": [
            " A média de valores para 2 quartos é: 4317.75\n",
            " A mediana de valores para 2 quartos é: 4218.0\n",
            " O Valor máximo é: 5188.0\n",
            " O Valor mínimo é: 3459.0\n",
            "\n",
            " O total de imóveis com 2 quartos é: 24\n"
          ]
        }
      ]
    },
    {
      "cell_type": "code",
      "source": [
        "#Segmentado por quantidade de quartos 2 ALUGUEL\n",
        "\n",
        "fig, ax = plt.subplots(figsize=(10, 6))\n",
        "sns.boxplot(x= 'Preco', data= df2, width= .65)\n",
        "ax.xaxis.grid(True)\n",
        "sns.despine(trim=False, left=True)"
      ],
      "metadata": {
        "colab": {
          "base_uri": "https://localhost:8080/",
          "height": 388
        },
        "id": "ZBlxfOTbUhtv",
        "outputId": "7a67f1ee-6945-4fe6-aefb-48b7ebba07dc"
      },
      "execution_count": null,
      "outputs": [
        {
          "output_type": "display_data",
          "data": {
            "text/plain": [
              "<Figure size 720x432 with 1 Axes>"
            ],
            "image/png": "[encoded data removed]"
          },
          "metadata": {
            "needs_background": "light"
          }
        }
      ]
    },
    {
      "cell_type": "code",
      "source": [
        "#Segmentado por quantidade de quartos 2 CONDO\n",
        "\n",
        "fig, ax = plt.subplots(figsize=(10, 6))\n",
        "sns.boxplot(x= 'Condomínio', data= df2, width= .65)\n",
        "ax.xaxis.grid(True)\n",
        "sns.despine(trim=False, left=True)"
      ],
      "metadata": {
        "colab": {
          "base_uri": "https://localhost:8080/",
          "height": 388
        },
        "id": "c7Uz7I-wUqmu",
        "outputId": "81b61c89-1f4f-4062-ef4a-2bd9a4457768"
      },
      "execution_count": null,
      "outputs": [
        {
          "output_type": "display_data",
          "data": {
            "text/plain": [
              "<Figure size 720x432 with 1 Axes>"
            ],
            "image/png": "[encoded data removed]"
          },
          "metadata": {
            "needs_background": "light"
          }
        }
      ]
    },
    {
      "cell_type": "code",
      "source": [
        "print(f\" A média de Aluguel para 2 quartos é: {df2['Preco'].mean()}\")\n",
        "print(f\" A mediana de Aluguel para 2 quartos é: {df2['Preco'].median()}\")\n",
        "print(f\" O Valor máximo é: {df2['Preco'].max()}\")\n",
        "print(f\" O Valor mínimo é: {df2['Preco'].min()}\\n\")\n",
        "\n",
        "print(f\" A média de Condomínio para 2 quartos é: {df2['Condomínio'].mean()}\")\n",
        "print(f\" A mediana de Condomínio para 2 quartos é: {df2['Condomínio'].median()}\")\n",
        "print(f\" O Valor máximo é: {df2['Condomínio'].max()}\")\n",
        "print(f\" O Valor mínimo é: {df2['Condomínio'].min()}\\n\")"
      ],
      "metadata": {
        "colab": {
          "base_uri": "https://localhost:8080/"
        },
        "id": "8_v3YsbqWorV",
        "outputId": "1dd5d7ef-66e7-4b2e-81b4-10b792d9229f"
      },
      "execution_count": null,
      "outputs": [
        {
          "output_type": "stream",
          "name": "stdout",
          "text": [
            " A média de Aluguel para 2 quartos é: 3387.5\n",
            " A mediana de Aluguel para 2 quartos é: 3250.0\n",
            " O Valor máximo é: 4300.0\n",
            " O Valor mínimo é: 2500.0\n",
            "\n",
            " A média de Condomínio para 2 quartos é: 930.25\n",
            " A mediana de Condomínio para 2 quartos é: 966.0\n",
            " O Valor máximo é: 1536.0\n",
            " O Valor mínimo é: 459.0\n",
            "\n"
          ]
        }
      ]
    },
    {
      "cell_type": "markdown",
      "source": [
        "### Apartamentos com 3 dormitórios"
      ],
      "metadata": {
        "id": "hj-iwG6zU5FF"
      }
    },
    {
      "cell_type": "code",
      "source": [
        "y = [df[df['Quartos'] == 3]]\n",
        "df3 = pd.DataFrame(y[0])\n",
        "\n",
        "df3"
      ],
      "metadata": {
        "id": "OTfbVRBSQRs9"
      },
      "execution_count": null,
      "outputs": []
    },
    {
      "cell_type": "code",
      "source": [
        "#Segmentado por quantidade de quartos 3\n",
        "\n",
        "fig, ax = plt.subplots(figsize=(10, 6))\n",
        "sns.boxplot(x= 'Valor Total', data= df3, width= .65)\n",
        "ax.xaxis.grid(True)\n",
        "sns.despine(trim=False, left=True)"
      ],
      "metadata": {
        "colab": {
          "base_uri": "https://localhost:8080/",
          "height": 388
        },
        "id": "X-0wIBYHQXf2",
        "outputId": "f21cf4ae-f1fa-4373-ff08-af463a253a46"
      },
      "execution_count": null,
      "outputs": [
        {
          "output_type": "display_data",
          "data": {
            "text/plain": [
              "<Figure size 720x432 with 1 Axes>"
            ],
            "image/png": "[encoded data removed]"
          },
          "metadata": {
            "needs_background": "light"
          }
        }
      ]
    },
    {
      "cell_type": "code",
      "source": [
        "print(f\" A média de valores para 3 quartos é: {df3['Valor Total'].mean()}\")\n",
        "print(f\" A mediana de valores para 3 quartos é: {df3['Valor Total'].median()}\")\n",
        "print(f\" O Valor máximo é: {df3['Valor Total'].max()}\")\n",
        "print(f\" O Valor mínimo é: {df3['Valor Total'].min()}\\n\")\n",
        "\n",
        "print(f\" O total de imóveis com 3 quartos é: {len(df3['Valor Total'])}\")"
      ],
      "metadata": {
        "colab": {
          "base_uri": "https://localhost:8080/"
        },
        "id": "H5MqquT9RriB",
        "outputId": "9a466cb7-0c40-44a0-fc7e-bb117e0442ac"
      },
      "execution_count": null,
      "outputs": [
        {
          "output_type": "stream",
          "name": "stdout",
          "text": [
            " A média de valores para 3 quartos é: 6731.523809523809\n",
            " A mediana de valores para 3 quartos é: 5716.0\n",
            " O Valor máximo é: 15300.0\n",
            " O Valor mínimo é: 3453.0\n",
            "\n",
            " O total de imóveis com 3 quartos é: 63\n"
          ]
        }
      ]
    },
    {
      "cell_type": "code",
      "source": [
        "print(f\" A média de Aluguel para 3 quartos é: {df3['Preco'].mean()}\")\n",
        "print(f\" A mediana de Aluguel para 3 quartos é: {df3['Preco'].median()}\")\n",
        "print(f\" O Valor máximo é: {df3['Preco'].max()}\")\n",
        "print(f\" O Valor mínimo é: {df3['Preco'].min()}\\n\")\n",
        "\n",
        "print(f\" A média de Condomínio para 3 quartos é: {df3['Condomínio'].mean()}\")\n",
        "print(f\" A mediana de Condomínio para 3 quartos é: {df3['Condomínio'].median()}\")\n",
        "print(f\" O Valor máximo é: {df3['Condomínio'].max()}\")\n",
        "print(f\" O Valor mínimo é: {df3['Condomínio'].min()}\\n\")"
      ],
      "metadata": {
        "colab": {
          "base_uri": "https://localhost:8080/"
        },
        "id": "pA-hnm8sTb4X",
        "outputId": "4724fa61-9c7f-4079-bee8-3434e7c93949"
      },
      "execution_count": null,
      "outputs": [
        {
          "output_type": "stream",
          "name": "stdout",
          "text": [
            " A média de Aluguel para 3 quartos é: 5398.412698412699\n",
            " A mediana de Aluguel para 3 quartos é: 4500.0\n",
            " O Valor máximo é: 13000.0\n",
            " O Valor mínimo é: 2500.0\n",
            "\n",
            " A média de Condomínio para 3 quartos é: 1333.111111111111\n",
            " A mediana de Condomínio para 3 quartos é: 1250.0\n",
            " O Valor máximo é: 2300.0\n",
            " O Valor mínimo é: 600.0\n",
            "\n"
          ]
        }
      ]
    },
    {
      "cell_type": "markdown",
      "source": [
        "### Baixando dados de quinto andar"
      ],
      "metadata": {
        "id": "F-XmBvXGrXkv"
      }
    },
    {
      "cell_type": "code",
      "source": [],
      "metadata": {
        "id": "bfkCYpiVrbN0"
      },
      "execution_count": null,
      "outputs": []
    }
  ]
}